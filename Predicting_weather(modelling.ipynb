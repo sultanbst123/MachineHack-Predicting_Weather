{
  "cells": [
    {
      "cell_type": "markdown",
      "metadata": {
        "id": "view-in-github",
        "colab_type": "text"
      },
      "source": [
        "<a href=\"https://colab.research.google.com/github/sultanbst123/MachineHack-Predicting_Weather/blob/main/Predicting_weather(modelling.ipynb\" target=\"_parent\"><img src=\"https://colab.research.google.com/assets/colab-badge.svg\" alt=\"Open In Colab\"/></a>"
      ]
    },
    {
      "cell_type": "markdown",
      "metadata": {
        "id": "XEBPNYOIp56n"
      },
      "source": [
        "## Library & File"
      ]
    },
    {
      "cell_type": "code",
      "execution_count": null,
      "metadata": {
        "colab": {
          "base_uri": "https://localhost:8080/"
        },
        "id": "Awz4tmCwoa91",
        "outputId": "d8466800-ea3e-4ee1-fb1f-39d6f94c2f09"
      },
      "outputs": [
        {
          "name": "stdout",
          "output_type": "stream",
          "text": [
            "Installing collected packages: slicer, shap, borutashap\n",
            "Successfully installed borutashap-1.0.16 shap-0.40.0 slicer-0.0.7\n"
          ]
        }
      ],
      "source": [
        "\n",
        "!pip install catboost\n",
        "!pip install ngboost\n",
        "!pip install optuna\n",
        "!pip install borutashap"
      ]
    },
    {
      "cell_type": "code",
      "execution_count": null,
      "metadata": {
        "id": "5wp9Ve5to4YF"
      },
      "outputs": [],
      "source": [
        "!pip install --upgrade scikit-learn"
      ]
    },
    {
      "cell_type": "code",
      "execution_count": null,
      "metadata": {
        "colab": {
          "base_uri": "https://localhost:8080/"
        },
        "id": "9gr4S8gxo6lS",
        "outputId": "3b095ed2-7d30-4886-f8fd-3d1cb731a209"
      },
      "outputs": [
        {
          "name": "stderr",
          "output_type": "stream",
          "text": [
            "/usr/local/lib/python3.7/dist-packages/statsmodels/tools/_testing.py:19: FutureWarning:\n",
            "\n",
            "pandas.util.testing is deprecated. Use the functions in the public API at pandas.testing instead.\n",
            "\n"
          ]
        }
      ],
      "source": [
        "import pandas as pd\n",
        "import numpy as np\n",
        "import matplotlib.pyplot as plt\n",
        "import seaborn as sns\n",
        "import optuna\n",
        "from BorutaShap import BorutaShap\n",
        " \n",
        "# classification\n",
        "import xgboost, lightgbm, catboost, ngboost\n",
        "\n",
        "from xgboost import XGBClassifier\n",
        "from ngboost import NGBClassifier\n",
        "from catboost import CatBoostClassifier\n",
        "from lightgbm import LGBMClassifier\n",
        "from sklearn.tree import DecisionTreeClassifier, ExtraTreeClassifier\n",
        "from sklearn.ensemble import (RandomForestClassifier, StackingClassifier, GradientBoostingClassifier,\n",
        "                             AdaBoostClassifier, HistGradientBoostingClassifier) \n",
        "\n",
        "# regression\n",
        "from xgboost import XGBRegressor\n",
        "from ngboost import NGBRegressor\n",
        "from catboost import CatBoostRegressor\n",
        "from lightgbm import LGBMRegressor\n",
        "from sklearn.tree import DecisionTreeRegressor, ExtraTreeRegressor\n",
        "from sklearn.ensemble import (RandomForestRegressor, GradientBoostingRegressor,\n",
        "                             AdaBoostRegressor, HistGradientBoostingRegressor) \n",
        "\n",
        "#preprocessing\n",
        "from sklearn.model_selection import train_test_split, KFold, cross_val_score, StratifiedKFold, GridSearchCV\n",
        "from sklearn.metrics import (accuracy_score, classification_report, confusion_matrix,f1_score, \n",
        "                            log_loss, roc_auc_score, plot_roc_curve,plot_confusion_matrix) \n",
        "from sklearn.metrics import mean_absolute_error, mean_squared_error, mean_squared_log_error, r2_score\n",
        "from sklearn.preprocessing import LabelEncoder,OneHotEncoder, StandardScaler, MinMaxScaler, RobustScaler\n",
        "from sklearn.calibration import CalibrationDisplay\n",
        "\n",
        "\n",
        "import warnings\n",
        "warnings.filterwarnings(\"ignore\")\n",
        " \n",
        "%matplotlib inline"
      ]
    },
    {
      "cell_type": "code",
      "execution_count": null,
      "metadata": {
        "id": "rD4JBMtio_L0"
      },
      "outputs": [],
      "source": [
        "train = pd.read_csv(\"/content/drive/MyDrive/Predicting weather/train_PredictingWeather(clean).csv\")\n",
        "test = pd.read_csv(\"/content/drive/MyDrive/Predicting weather/test_PredictingWeather(clean).csv\")"
      ]
    },
    {
      "cell_type": "code",
      "execution_count": null,
      "metadata": {
        "colab": {
          "base_uri": "https://localhost:8080/"
        },
        "id": "LqqagH11p3az",
        "outputId": "6d2e8142-c777-4a73-f138-95cee0f5f8af"
      },
      "outputs": [
        {
          "data": {
            "text/html": [
              "\n",
              "  <div id=\"df-b1d0f58d-7160-4721-8342-4dc6cc86deec\">\n",
              "    <div class=\"colab-df-container\">\n",
              "      <div>\n",
              "<style scoped>\n",
              "    .dataframe tbody tr th:only-of-type {\n",
              "        vertical-align: middle;\n",
              "    }\n",
              "\n",
              "    .dataframe tbody tr th {\n",
              "        vertical-align: top;\n",
              "    }\n",
              "\n",
              "    .dataframe thead th {\n",
              "        text-align: right;\n",
              "    }\n",
              "</style>\n",
              "<table border=\"1\" class=\"dataframe\">\n",
              "  <thead>\n",
              "    <tr style=\"text-align: right;\">\n",
              "      <th></th>\n",
              "      <th>edible-poisonous</th>\n",
              "      <th>cap-diameter</th>\n",
              "      <th>cap-shape</th>\n",
              "      <th>cap-color</th>\n",
              "      <th>does-bruise-or-bleed</th>\n",
              "      <th>gill-attachment</th>\n",
              "      <th>gill-color</th>\n",
              "      <th>stem-height</th>\n",
              "      <th>stem-width</th>\n",
              "      <th>stem-color</th>\n",
              "      <th>has-ring</th>\n",
              "      <th>ring-type</th>\n",
              "      <th>habitat</th>\n",
              "      <th>season</th>\n",
              "      <th>has-gill-color</th>\n",
              "      <th>has-gill-attachment</th>\n",
              "      <th>has-stem-color</th>\n",
              "    </tr>\n",
              "  </thead>\n",
              "  <tbody>\n",
              "    <tr>\n",
              "      <th>0</th>\n",
              "      <td>p</td>\n",
              "      <td>5.75</td>\n",
              "      <td>x</td>\n",
              "      <td>n</td>\n",
              "      <td>t</td>\n",
              "      <td>s</td>\n",
              "      <td>w</td>\n",
              "      <td>6.13</td>\n",
              "      <td>14.93</td>\n",
              "      <td>w</td>\n",
              "      <td>f</td>\n",
              "      <td>f</td>\n",
              "      <td>d</td>\n",
              "      <td>a</td>\n",
              "      <td>t</td>\n",
              "      <td>t</td>\n",
              "      <td>t</td>\n",
              "    </tr>\n",
              "    <tr>\n",
              "      <th>1</th>\n",
              "      <td>p</td>\n",
              "      <td>2.27</td>\n",
              "      <td>o</td>\n",
              "      <td>g</td>\n",
              "      <td>f</td>\n",
              "      <td>f</td>\n",
              "      <td>f</td>\n",
              "      <td>0.00</td>\n",
              "      <td>0.00</td>\n",
              "      <td>f</td>\n",
              "      <td>f</td>\n",
              "      <td>f</td>\n",
              "      <td>d</td>\n",
              "      <td>s</td>\n",
              "      <td>f</td>\n",
              "      <td>f</td>\n",
              "      <td>f</td>\n",
              "    </tr>\n",
              "    <tr>\n",
              "      <th>2</th>\n",
              "      <td>p</td>\n",
              "      <td>5.59</td>\n",
              "      <td>c</td>\n",
              "      <td>y</td>\n",
              "      <td>t</td>\n",
              "      <td>x</td>\n",
              "      <td>p</td>\n",
              "      <td>5.47</td>\n",
              "      <td>11.27</td>\n",
              "      <td>w</td>\n",
              "      <td>f</td>\n",
              "      <td>f</td>\n",
              "      <td>d</td>\n",
              "      <td>a</td>\n",
              "      <td>t</td>\n",
              "      <td>t</td>\n",
              "      <td>t</td>\n",
              "    </tr>\n",
              "    <tr>\n",
              "      <th>3</th>\n",
              "      <td>p</td>\n",
              "      <td>0.74</td>\n",
              "      <td>x</td>\n",
              "      <td>p</td>\n",
              "      <td>f</td>\n",
              "      <td>a</td>\n",
              "      <td>n</td>\n",
              "      <td>4.33</td>\n",
              "      <td>0.98</td>\n",
              "      <td>k</td>\n",
              "      <td>f</td>\n",
              "      <td>f</td>\n",
              "      <td>d</td>\n",
              "      <td>a</td>\n",
              "      <td>t</td>\n",
              "      <td>t</td>\n",
              "      <td>t</td>\n",
              "    </tr>\n",
              "    <tr>\n",
              "      <th>4</th>\n",
              "      <td>p</td>\n",
              "      <td>9.60</td>\n",
              "      <td>x</td>\n",
              "      <td>n</td>\n",
              "      <td>f</td>\n",
              "      <td>a</td>\n",
              "      <td>w</td>\n",
              "      <td>10.84</td>\n",
              "      <td>28.52</td>\n",
              "      <td>w</td>\n",
              "      <td>f</td>\n",
              "      <td>f</td>\n",
              "      <td>d</td>\n",
              "      <td>u</td>\n",
              "      <td>t</td>\n",
              "      <td>t</td>\n",
              "      <td>t</td>\n",
              "    </tr>\n",
              "  </tbody>\n",
              "</table>\n",
              "</div>\n",
              "      <button class=\"colab-df-convert\" onclick=\"convertToInteractive('df-b1d0f58d-7160-4721-8342-4dc6cc86deec')\"\n",
              "              title=\"Convert this dataframe to an interactive table.\"\n",
              "              style=\"display:none;\">\n",
              "        \n",
              "  <svg xmlns=\"http://www.w3.org/2000/svg\" height=\"24px\"viewBox=\"0 0 24 24\"\n",
              "       width=\"24px\">\n",
              "    <path d=\"M0 0h24v24H0V0z\" fill=\"none\"/>\n",
              "    <path d=\"M18.56 5.44l.94 2.06.94-2.06 2.06-.94-2.06-.94-.94-2.06-.94 2.06-2.06.94zm-11 1L8.5 8.5l.94-2.06 2.06-.94-2.06-.94L8.5 2.5l-.94 2.06-2.06.94zm10 10l.94 2.06.94-2.06 2.06-.94-2.06-.94-.94-2.06-.94 2.06-2.06.94z\"/><path d=\"M17.41 7.96l-1.37-1.37c-.4-.4-.92-.59-1.43-.59-.52 0-1.04.2-1.43.59L10.3 9.45l-7.72 7.72c-.78.78-.78 2.05 0 2.83L4 21.41c.39.39.9.59 1.41.59.51 0 1.02-.2 1.41-.59l7.78-7.78 2.81-2.81c.8-.78.8-2.07 0-2.86zM5.41 20L4 18.59l7.72-7.72 1.47 1.35L5.41 20z\"/>\n",
              "  </svg>\n",
              "      </button>\n",
              "      \n",
              "  <style>\n",
              "    .colab-df-container {\n",
              "      display:flex;\n",
              "      flex-wrap:wrap;\n",
              "      gap: 12px;\n",
              "    }\n",
              "\n",
              "    .colab-df-convert {\n",
              "      background-color: #E8F0FE;\n",
              "      border: none;\n",
              "      border-radius: 50%;\n",
              "      cursor: pointer;\n",
              "      display: none;\n",
              "      fill: #1967D2;\n",
              "      height: 32px;\n",
              "      padding: 0 0 0 0;\n",
              "      width: 32px;\n",
              "    }\n",
              "\n",
              "    .colab-df-convert:hover {\n",
              "      background-color: #E2EBFA;\n",
              "      box-shadow: 0px 1px 2px rgba(60, 64, 67, 0.3), 0px 1px 3px 1px rgba(60, 64, 67, 0.15);\n",
              "      fill: #174EA6;\n",
              "    }\n",
              "\n",
              "    [theme=dark] .colab-df-convert {\n",
              "      background-color: #3B4455;\n",
              "      fill: #D2E3FC;\n",
              "    }\n",
              "\n",
              "    [theme=dark] .colab-df-convert:hover {\n",
              "      background-color: #434B5C;\n",
              "      box-shadow: 0px 1px 3px 1px rgba(0, 0, 0, 0.15);\n",
              "      filter: drop-shadow(0px 1px 2px rgba(0, 0, 0, 0.3));\n",
              "      fill: #FFFFFF;\n",
              "    }\n",
              "  </style>\n",
              "\n",
              "      <script>\n",
              "        const buttonEl =\n",
              "          document.querySelector('#df-b1d0f58d-7160-4721-8342-4dc6cc86deec button.colab-df-convert');\n",
              "        buttonEl.style.display =\n",
              "          google.colab.kernel.accessAllowed ? 'block' : 'none';\n",
              "\n",
              "        async function convertToInteractive(key) {\n",
              "          const element = document.querySelector('#df-b1d0f58d-7160-4721-8342-4dc6cc86deec');\n",
              "          const dataTable =\n",
              "            await google.colab.kernel.invokeFunction('convertToInteractive',\n",
              "                                                     [key], {});\n",
              "          if (!dataTable) return;\n",
              "\n",
              "          const docLinkHtml = 'Like what you see? Visit the ' +\n",
              "            '<a target=\"_blank\" href=https://colab.research.google.com/notebooks/data_table.ipynb>data table notebook</a>'\n",
              "            + ' to learn more about interactive tables.';\n",
              "          element.innerHTML = '';\n",
              "          dataTable['output_type'] = 'display_data';\n",
              "          await google.colab.output.renderOutput(dataTable, element);\n",
              "          const docLink = document.createElement('div');\n",
              "          docLink.innerHTML = docLinkHtml;\n",
              "          element.appendChild(docLink);\n",
              "        }\n",
              "      </script>\n",
              "    </div>\n",
              "  </div>\n",
              "  "
            ],
            "text/plain": [
              "  edible-poisonous  cap-diameter  ... has-gill-attachment has-stem-color\n",
              "0                p          5.75  ...                   t              t\n",
              "1                p          2.27  ...                   f              f\n",
              "2                p          5.59  ...                   t              t\n",
              "3                p          0.74  ...                   t              t\n",
              "4                p          9.60  ...                   t              t\n",
              "\n",
              "[5 rows x 17 columns]"
            ]
          },
          "execution_count": 5,
          "metadata": {},
          "output_type": "execute_result"
        }
      ],
      "source": [
        "train.head()"
      ]
    },
    {
      "cell_type": "code",
      "execution_count": null,
      "metadata": {
        "id": "tu12uBowp-SU"
      },
      "outputs": [],
      "source": [
        "##"
      ]
    },
    {
      "cell_type": "markdown",
      "metadata": {
        "id": "6kMA5mSmp_VE"
      },
      "source": [
        "## Split data & Coba dengan LGBM"
      ]
    },
    {
      "cell_type": "code",
      "execution_count": null,
      "metadata": {
        "id": "B21n9oD3qMyq"
      },
      "outputs": [],
      "source": [
        "\n",
        "x = train.drop(\"season\",axis=1) \n",
        "y = train.season"
      ]
    },
    {
      "cell_type": "code",
      "execution_count": null,
      "metadata": {
        "id": "xl-tUnsUqVi5"
      },
      "outputs": [],
      "source": [
        "# ubah object ke category\n",
        "\n",
        "cater = x.select_dtypes(\"object\").columns"
      ]
    },
    {
      "cell_type": "code",
      "execution_count": null,
      "metadata": {
        "id": "U9iO1IRsqcwv"
      },
      "outputs": [],
      "source": [
        "x[cater] = x[cater].astype(\"category\")"
      ]
    },
    {
      "cell_type": "code",
      "execution_count": null,
      "metadata": {
        "id": "-AVgmbixqfrh"
      },
      "outputs": [],
      "source": [
        "x_train, x_val, y_train, y_val = train_test_split(x, y, test_size=0.2, random_state=42)"
      ]
    },
    {
      "cell_type": "code",
      "execution_count": null,
      "metadata": {
        "colab": {
          "base_uri": "https://localhost:8080/"
        },
        "id": "ID54zPNfqjI0",
        "outputId": "c4472259-cf39-4cc2-f128-682412b4b2b0"
      },
      "outputs": [
        {
          "data": {
            "text/plain": [
              "LGBMClassifier(random_state=42)"
            ]
          },
          "execution_count": 11,
          "metadata": {},
          "output_type": "execute_result"
        }
      ],
      "source": [
        "lg = LGBMClassifier(random_state=42) \n",
        "lg.fit(x_train, y_train)"
      ]
    },
    {
      "cell_type": "code",
      "execution_count": null,
      "metadata": {
        "colab": {
          "base_uri": "https://localhost:8080/"
        },
        "id": "Qa157t3zqrtX",
        "outputId": "9afd1c87-db35-4dc0-fac3-e423107aaef0"
      },
      "outputs": [
        {
          "name": "stdout",
          "output_type": "stream",
          "text": [
            "Val accuracy: 0.51%\n",
            "Train accuracy: 0.63%\n"
          ]
        }
      ],
      "source": [
        "print(f\"Val accuracy: {np.round(lg.score(x_val, y_val),2)}%\") \n",
        "print(f\"Train accuracy: {np.round(lg.score(x_train, y_train),2)}%\")"
      ]
    },
    {
      "cell_type": "code",
      "execution_count": null,
      "metadata": {
        "colab": {
          "base_uri": "https://localhost:8080/"
        },
        "id": "AFkestsCriaA",
        "outputId": "43cd5fb8-6d2e-4bff-95f2-749bc5d446c5"
      },
      "outputs": [
        {
          "data": {
            "text/plain": [
              "<matplotlib.axes._subplots.AxesSubplot at 0x7f5a0470fed0>"
            ]
          },
          "execution_count": 13,
          "metadata": {},
          "output_type": "execute_result"
        },
        {
          "data": {
            "image/png": "[encoded data removed]",
            "text/plain": [
              "<Figure size 432x288 with 1 Axes>"
            ]
          },
          "metadata": {},
          "output_type": "display_data"
        }
      ],
      "source": [
        "## check feature important\n",
        "lightgbm.plot_importance(lg)"
      ]
    },
    {
      "cell_type": "markdown",
      "metadata": {
        "id": "E5jukhLEr_MT"
      },
      "source": [
        "## Feature Selection"
      ]
    },
    {
      "cell_type": "code",
      "execution_count": null,
      "metadata": {
        "id": "qRshhx2zsBzN"
      },
      "outputs": [],
      "source": [
        "\n",
        "# guanakan lightgbm untuk feature important\n",
        "\n",
        "fs = BorutaShap(model=lg,\n",
        "                importance_measure=\"shap\",\n",
        "                classification = True)"
      ]
    },
    {
      "cell_type": "code",
      "execution_count": null,
      "metadata": {
        "colab": {
          "base_uri": "https://localhost:8080/",
          "height": 176,
          "referenced_widgets": [
            "c10dcbd1567a4cfba996dab66ccd1e44",
            "7d48df47f8124009956365adcd60658c",
            "05055847861641d3af81d094f1036bea",
            "15fcf2ef2c494c33826660113182d6ca",
            "5e54838c53374dd6906d2335630c88c7",
            "7370d3ae623b421590b71b2e3fe61376",
            "215989d5d551496ab6b071cae024d10b",
            "bd71284a41044fada160e253716074c7",
            "60c22140829f40ceb3f93609a86dec01",
            "81c5ca507be74919a6419c2dafeb7429",
            "c10f372f3eb74569a60c4bd5e76d73a5"
          ]
        },
        "id": "tmhGTlScsSZp",
        "outputId": "dd8db008-717d-4aa8-be78-07a2b2d4451e"
      },
      "outputs": [
        {
          "data": {
            "application/vnd.jupyter.widget-view+json": {
              "model_id": "c10dcbd1567a4cfba996dab66ccd1e44",
              "version_major": 2,
              "version_minor": 0
            },
            "text/plain": [
              "  0%|          | 0/5 [00:00<?, ?it/s]"
            ]
          },
          "metadata": {},
          "output_type": "display_data"
        },
        {
          "name": "stdout",
          "output_type": "stream",
          "text": [
            "0 attributes confirmed important: []\n",
            "0 attributes confirmed unimportant: []\n",
            "16 tentative attributes remains: ['ring-type', 'cap-shape', 'gill-attachment', 'stem-width', 'edible-poisonous', 'stem-height', 'gill-color', 'has-ring', 'has-stem-color', 'does-bruise-or-bleed', 'habitat', 'cap-diameter', 'stem-color', 'has-gill-color', 'cap-color', 'has-gill-attachment']\n"
          ]
        }
      ],
      "source": [
        "fs.fit(X=x_train, y=y_train, n_trials=5,random_state=0)"
      ]
    },
    {
      "cell_type": "code",
      "execution_count": null,
      "metadata": {
        "colab": {
          "base_uri": "https://localhost:8080/",
          "height": 169
        },
        "id": "1LVg6LKEbyar",
        "outputId": "5e469336-d211-4417-f171-ee019ff1a04a"
      },
      "outputs": [
        {
          "data": {
            "image/png": "[encoded data removed]",
            "text/plain": [
              "<Figure size 1728x864 with 1 Axes>"
            ]
          },
          "metadata": {},
          "output_type": "display_data"
        }
      ],
      "source": [
        "fs.plot(which_features='all', figsize=(24,12))"
      ]
    },
    {
      "cell_type": "code",
      "execution_count": null,
      "metadata": {
        "id": "JGIzayc_b9Xx"
      },
      "outputs": [],
      "source": [
        "# tidak ada yang penting dan tidak penting di antara fitur, berdasarkan boruta shape feature selection"
      ]
    },
    {
      "cell_type": "markdown",
      "metadata": {
        "id": "TWgAkIe8cJMh"
      },
      "source": [
        "## Tree Models"
      ]
    },
    {
      "cell_type": "code",
      "execution_count": null,
      "metadata": {
        "id": "FJgUGjaZcP6b"
      },
      "outputs": [],
      "source": [
        "train_acc = []\n",
        "val_acc = []"
      ]
    },
    {
      "cell_type": "code",
      "execution_count": null,
      "metadata": {
        "id": "BuHy1-CtccXZ"
      },
      "outputs": [],
      "source": [
        "CB = CatBoostClassifier(random_state=12)\n",
        "LGBM = LGBMClassifier(random_state=14)"
      ]
    },
    {
      "cell_type": "code",
      "execution_count": null,
      "metadata": {
        "id": "DaNl-cQacpm-"
      },
      "outputs": [],
      "source": [
        "def score_1(model,x_train, y_train, x_val, y_val):\n",
        "       \n",
        "    #lgbm\n",
        "    if model == LGBM:\n",
        "       #fit model\n",
        "       model.fit(x_train,y_train,verbose=False)\n",
        "\n",
        "       #accuracy\n",
        "       train_acc.append(model.score(x_train,y_train))\n",
        "       val_acc.append(model.score(x_val,y_val)) \n",
        "       \n",
        "   #catboost\n",
        "    else:         \n",
        "       #fit model    \n",
        "       model.fit(x_train,y_train,cat_features=cater.to_list(),verbose=False)\n",
        "\n",
        "       #accuracy\n",
        "       train_acc.append(model.score(x_train,y_train))\n",
        "       val_acc.append(model.score(x_val,y_val)) \n",
        "       \n",
        "    return model"
      ]
    },
    {
      "cell_type": "code",
      "execution_count": null,
      "metadata": {
        "colab": {
          "base_uri": "https://localhost:8080/"
        },
        "id": "iGwYQa-9dRr-",
        "outputId": "5faeee91-0883-4625-d784-756e4cca8612"
      },
      "outputs": [
        {
          "name": "stdout",
          "output_type": "stream",
          "text": [
            "------------------------------\n",
            "<catboost.core.CatBoostClassifier object at 0x7f0b3c715550>\n",
            "->->->->->->->->->-> DONE\n",
            "------------------------------\n",
            "LGBMClassifier(random_state=14)\n",
            "->->->->->->->->->-> DONE\n"
          ]
        }
      ],
      "source": [
        "for i in [CB,LGBM]:\n",
        "    print(30*\"-\")\n",
        "    print(i)\n",
        "    score_1(i, x_train, y_train, x_val, y_val)\n",
        "    print(10*\"->\" + \" DONE\")"
      ]
    },
    {
      "cell_type": "code",
      "execution_count": null,
      "metadata": {
        "id": "cz0sdDiDdlCl"
      },
      "outputs": [],
      "source": [
        "# untuk model pohon lain nya"
      ]
    },
    {
      "cell_type": "code",
      "execution_count": null,
      "metadata": {
        "id": "R9e_OgBKdoub"
      },
      "outputs": [],
      "source": [
        "x_train_1 = x_train.copy() \n",
        "x_val_1 = x_val.copy()"
      ]
    },
    {
      "cell_type": "code",
      "execution_count": null,
      "metadata": {
        "id": "clPJrIXXdx04"
      },
      "outputs": [],
      "source": [
        "\n",
        "# ubah ke nominal untuk fitur category\n",
        "\n",
        "le = {}\n",
        "for i in cater:\n",
        "    le[i] = LabelEncoder()\n",
        "    x_train_1[i] = le[i].fit_transform(x_train_1[i]) \n",
        "    x_val_1[i] = le[i].transform(x_val_1[i])"
      ]
    },
    {
      "cell_type": "code",
      "execution_count": null,
      "metadata": {
        "colab": {
          "base_uri": "https://localhost:8080/",
          "height": 319
        },
        "id": "FC1gJWx_gjZm",
        "outputId": "58973ffb-7e88-497e-dae2-0852f867b47b"
      },
      "outputs": [
        {
          "data": {
            "text/html": [
              "\n",
              "  <div id=\"df-ce17ef2a-0306-4583-b9e0-837b37d4fb7c\">\n",
              "    <div class=\"colab-df-container\">\n",
              "      <div>\n",
              "<style scoped>\n",
              "    .dataframe tbody tr th:only-of-type {\n",
              "        vertical-align: middle;\n",
              "    }\n",
              "\n",
              "    .dataframe tbody tr th {\n",
              "        vertical-align: top;\n",
              "    }\n",
              "\n",
              "    .dataframe thead th {\n",
              "        text-align: right;\n",
              "    }\n",
              "</style>\n",
              "<table border=\"1\" class=\"dataframe\">\n",
              "  <thead>\n",
              "    <tr style=\"text-align: right;\">\n",
              "      <th></th>\n",
              "      <th>edible-poisonous</th>\n",
              "      <th>cap-diameter</th>\n",
              "      <th>cap-shape</th>\n",
              "      <th>cap-color</th>\n",
              "      <th>does-bruise-or-bleed</th>\n",
              "      <th>gill-attachment</th>\n",
              "      <th>gill-color</th>\n",
              "      <th>stem-height</th>\n",
              "      <th>stem-width</th>\n",
              "      <th>stem-color</th>\n",
              "      <th>has-ring</th>\n",
              "      <th>ring-type</th>\n",
              "      <th>habitat</th>\n",
              "      <th>has-gill-color</th>\n",
              "      <th>has-gill-attachment</th>\n",
              "      <th>has-stem-color</th>\n",
              "    </tr>\n",
              "  </thead>\n",
              "  <tbody>\n",
              "    <tr>\n",
              "      <th>31093</th>\n",
              "      <td>1</td>\n",
              "      <td>3.73</td>\n",
              "      <td>2</td>\n",
              "      <td>1</td>\n",
              "      <td>0</td>\n",
              "      <td>2</td>\n",
              "      <td>5</td>\n",
              "      <td>4.38</td>\n",
              "      <td>3.52</td>\n",
              "      <td>11</td>\n",
              "      <td>1</td>\n",
              "      <td>0</td>\n",
              "      <td>4</td>\n",
              "      <td>1</td>\n",
              "      <td>1</td>\n",
              "      <td>1</td>\n",
              "    </tr>\n",
              "    <tr>\n",
              "      <th>9162</th>\n",
              "      <td>0</td>\n",
              "      <td>0.70</td>\n",
              "      <td>4</td>\n",
              "      <td>10</td>\n",
              "      <td>0</td>\n",
              "      <td>3</td>\n",
              "      <td>3</td>\n",
              "      <td>2.42</td>\n",
              "      <td>1.22</td>\n",
              "      <td>11</td>\n",
              "      <td>0</td>\n",
              "      <td>1</td>\n",
              "      <td>0</td>\n",
              "      <td>1</td>\n",
              "      <td>0</td>\n",
              "      <td>1</td>\n",
              "    </tr>\n",
              "    <tr>\n",
              "      <th>1121</th>\n",
              "      <td>1</td>\n",
              "      <td>3.55</td>\n",
              "      <td>0</td>\n",
              "      <td>2</td>\n",
              "      <td>0</td>\n",
              "      <td>0</td>\n",
              "      <td>5</td>\n",
              "      <td>9.94</td>\n",
              "      <td>2.46</td>\n",
              "      <td>6</td>\n",
              "      <td>0</td>\n",
              "      <td>1</td>\n",
              "      <td>1</td>\n",
              "      <td>1</td>\n",
              "      <td>1</td>\n",
              "      <td>1</td>\n",
              "    </tr>\n",
              "    <tr>\n",
              "      <th>2746</th>\n",
              "      <td>0</td>\n",
              "      <td>10.62</td>\n",
              "      <td>5</td>\n",
              "      <td>10</td>\n",
              "      <td>1</td>\n",
              "      <td>1</td>\n",
              "      <td>10</td>\n",
              "      <td>6.05</td>\n",
              "      <td>24.49</td>\n",
              "      <td>11</td>\n",
              "      <td>0</td>\n",
              "      <td>1</td>\n",
              "      <td>0</td>\n",
              "      <td>1</td>\n",
              "      <td>1</td>\n",
              "      <td>1</td>\n",
              "    </tr>\n",
              "    <tr>\n",
              "      <th>33928</th>\n",
              "      <td>0</td>\n",
              "      <td>6.10</td>\n",
              "      <td>5</td>\n",
              "      <td>6</td>\n",
              "      <td>0</td>\n",
              "      <td>1</td>\n",
              "      <td>0</td>\n",
              "      <td>6.00</td>\n",
              "      <td>12.28</td>\n",
              "      <td>11</td>\n",
              "      <td>0</td>\n",
              "      <td>1</td>\n",
              "      <td>0</td>\n",
              "      <td>1</td>\n",
              "      <td>1</td>\n",
              "      <td>1</td>\n",
              "    </tr>\n",
              "  </tbody>\n",
              "</table>\n",
              "</div>\n",
              "      <button class=\"colab-df-convert\" onclick=\"convertToInteractive('df-ce17ef2a-0306-4583-b9e0-837b37d4fb7c')\"\n",
              "              title=\"Convert this dataframe to an interactive table.\"\n",
              "              style=\"display:none;\">\n",
              "        \n",
              "  <svg xmlns=\"http://www.w3.org/2000/svg\" height=\"24px\"viewBox=\"0 0 24 24\"\n",
              "       width=\"24px\">\n",
              "    <path d=\"M0 0h24v24H0V0z\" fill=\"none\"/>\n",
              "    <path d=\"M18.56 5.44l.94 2.06.94-2.06 2.06-.94-2.06-.94-.94-2.06-.94 2.06-2.06.94zm-11 1L8.5 8.5l.94-2.06 2.06-.94-2.06-.94L8.5 2.5l-.94 2.06-2.06.94zm10 10l.94 2.06.94-2.06 2.06-.94-2.06-.94-.94-2.06-.94 2.06-2.06.94z\"/><path d=\"M17.41 7.96l-1.37-1.37c-.4-.4-.92-.59-1.43-.59-.52 0-1.04.2-1.43.59L10.3 9.45l-7.72 7.72c-.78.78-.78 2.05 0 2.83L4 21.41c.39.39.9.59 1.41.59.51 0 1.02-.2 1.41-.59l7.78-7.78 2.81-2.81c.8-.78.8-2.07 0-2.86zM5.41 20L4 18.59l7.72-7.72 1.47 1.35L5.41 20z\"/>\n",
              "  </svg>\n",
              "      </button>\n",
              "      \n",
              "  <style>\n",
              "    .colab-df-container {\n",
              "      display:flex;\n",
              "      flex-wrap:wrap;\n",
              "      gap: 12px;\n",
              "    }\n",
              "\n",
              "    .colab-df-convert {\n",
              "      background-color: #E8F0FE;\n",
              "      border: none;\n",
              "      border-radius: 50%;\n",
              "      cursor: pointer;\n",
              "      display: none;\n",
              "      fill: #1967D2;\n",
              "      height: 32px;\n",
              "      padding: 0 0 0 0;\n",
              "      width: 32px;\n",
              "    }\n",
              "\n",
              "    .colab-df-convert:hover {\n",
              "      background-color: #E2EBFA;\n",
              "      box-shadow: 0px 1px 2px rgba(60, 64, 67, 0.3), 0px 1px 3px 1px rgba(60, 64, 67, 0.15);\n",
              "      fill: #174EA6;\n",
              "    }\n",
              "\n",
              "    [theme=dark] .colab-df-convert {\n",
              "      background-color: #3B4455;\n",
              "      fill: #D2E3FC;\n",
              "    }\n",
              "\n",
              "    [theme=dark] .colab-df-convert:hover {\n",
              "      background-color: #434B5C;\n",
              "      box-shadow: 0px 1px 3px 1px rgba(0, 0, 0, 0.15);\n",
              "      filter: drop-shadow(0px 1px 2px rgba(0, 0, 0, 0.3));\n",
              "      fill: #FFFFFF;\n",
              "    }\n",
              "  </style>\n",
              "\n",
              "      <script>\n",
              "        const buttonEl =\n",
              "          document.querySelector('#df-ce17ef2a-0306-4583-b9e0-837b37d4fb7c button.colab-df-convert');\n",
              "        buttonEl.style.display =\n",
              "          google.colab.kernel.accessAllowed ? 'block' : 'none';\n",
              "\n",
              "        async function convertToInteractive(key) {\n",
              "          const element = document.querySelector('#df-ce17ef2a-0306-4583-b9e0-837b37d4fb7c');\n",
              "          const dataTable =\n",
              "            await google.colab.kernel.invokeFunction('convertToInteractive',\n",
              "                                                     [key], {});\n",
              "          if (!dataTable) return;\n",
              "\n",
              "          const docLinkHtml = 'Like what you see? Visit the ' +\n",
              "            '<a target=\"_blank\" href=https://colab.research.google.com/notebooks/data_table.ipynb>data table notebook</a>'\n",
              "            + ' to learn more about interactive tables.';\n",
              "          element.innerHTML = '';\n",
              "          dataTable['output_type'] = 'display_data';\n",
              "          await google.colab.output.renderOutput(dataTable, element);\n",
              "          const docLink = document.createElement('div');\n",
              "          docLink.innerHTML = docLinkHtml;\n",
              "          element.appendChild(docLink);\n",
              "        }\n",
              "      </script>\n",
              "    </div>\n",
              "  </div>\n",
              "  "
            ],
            "text/plain": [
              "       edible-poisonous  cap-diameter  ...  has-gill-attachment  has-stem-color\n",
              "31093                 1          3.73  ...                    1               1\n",
              "9162                  0          0.70  ...                    0               1\n",
              "1121                  1          3.55  ...                    1               1\n",
              "2746                  0         10.62  ...                    1               1\n",
              "33928                 0          6.10  ...                    1               1\n",
              "\n",
              "[5 rows x 16 columns]"
            ]
          },
          "execution_count": 18,
          "metadata": {},
          "output_type": "execute_result"
        }
      ],
      "source": [
        "x_val_1.head()"
      ]
    },
    {
      "cell_type": "code",
      "execution_count": null,
      "metadata": {
        "id": "sI5j95OgeA02"
      },
      "outputs": [],
      "source": [
        "EXT = ExtraTreeClassifier(random_state=50)\n",
        "RF = RandomForestClassifier(random_state=60)\n",
        "DT = DecisionTreeClassifier(random_state=70)\n",
        "\n",
        "XGB = XGBClassifier(random_state=10)\n",
        "GBT = GradientBoostingClassifier(random_state=20)\n",
        "HGBT = HistGradientBoostingClassifier(random_state=30)\n",
        "ADA = AdaBoostClassifier(random_state=40)\n",
        "#NGB = NGBClassifier(random_state=65,verbose=False)"
      ]
    },
    {
      "cell_type": "code",
      "execution_count": null,
      "metadata": {
        "id": "YvUpuUBNe7bt"
      },
      "outputs": [],
      "source": [
        "def score_2(model,x_train, y_train, x_val, y_val):\n",
        "    #fit model    \n",
        "    model.fit(x_train,y_train)\n",
        "\n",
        "    #accuracy\n",
        "    train_acc.append(model.score(x_train,y_train))\n",
        "    val_acc.append(model.score(x_val,y_val))\n",
        "       \n",
        "    return model"
      ]
    },
    {
      "cell_type": "code",
      "execution_count": null,
      "metadata": {
        "colab": {
          "base_uri": "https://localhost:8080/"
        },
        "id": "KANOLQsEgwcg",
        "outputId": "51b8d444-59fd-490a-8ad7-1ec5b12b38e5"
      },
      "outputs": [
        {
          "name": "stdout",
          "output_type": "stream",
          "text": [
            "------------------------------\n",
            "XGBClassifier(random_state=10)\n",
            "->->->->->->->->->-> DONE\n",
            "------------------------------\n",
            "AdaBoostClassifier(random_state=40)\n",
            "->->->->->->->->->-> DONE\n",
            "------------------------------\n",
            "GradientBoostingClassifier(random_state=20)\n",
            "->->->->->->->->->-> DONE\n",
            "------------------------------\n",
            "HistGradientBoostingClassifier(random_state=30)\n",
            "->->->->->->->->->-> DONE\n",
            "------------------------------\n",
            "DecisionTreeClassifier(random_state=70)\n",
            "->->->->->->->->->-> DONE\n",
            "------------------------------\n",
            "RandomForestClassifier(random_state=60)\n",
            "->->->->->->->->->-> DONE\n",
            "------------------------------\n",
            "ExtraTreeClassifier(random_state=50)\n",
            "->->->->->->->->->-> DONE\n"
          ]
        }
      ],
      "source": [
        "for i in [XGB,ADA,GBT,HGBT,DT,RF,EXT]:\n",
        "    print(30*\"-\")\n",
        "    print(i)\n",
        "    score_2(i, x_train_1, y_train, x_val_1, y_val)\n",
        "    print(10*\"->\" + \" DONE\")"
      ]
    },
    {
      "cell_type": "markdown",
      "metadata": {
        "id": "gruJoJhCtzb_"
      },
      "source": [
        "## Models Selection"
      ]
    },
    {
      "cell_type": "code",
      "execution_count": null,
      "metadata": {
        "id": "WEABxJPRhM6V"
      },
      "outputs": [],
      "source": [
        "all_models = pd.DataFrame({\"models\": [\"CB\",\"LGBM\", \"XGB\", \"ADA\", \"GBT\", \"HGBT\", \"DT\", \"RF\", \"EXT\"],\n",
        "                          \"Train_accuracy\": train_acc, \n",
        "                          \"Val_accuracy\": val_acc})"
      ]
    },
    {
      "cell_type": "code",
      "execution_count": null,
      "metadata": {
        "colab": {
          "base_uri": "https://localhost:8080/",
          "height": 392
        },
        "id": "3K7rgG4ftvQU",
        "outputId": "157a6cf7-2fda-48aa-974a-42de3ef48880"
      },
      "outputs": [
        {
          "data": {
            "text/html": [
              "\n",
              "  <div id=\"df-abb39a72-44dc-4acb-be33-d64bf6718a1d\">\n",
              "    <div class=\"colab-df-container\">\n",
              "      <div>\n",
              "<style scoped>\n",
              "    .dataframe tbody tr th:only-of-type {\n",
              "        vertical-align: middle;\n",
              "    }\n",
              "\n",
              "    .dataframe tbody tr th {\n",
              "        vertical-align: top;\n",
              "    }\n",
              "\n",
              "    .dataframe thead th {\n",
              "        text-align: right;\n",
              "    }\n",
              "</style>\n",
              "<table border=\"1\" class=\"dataframe\">\n",
              "  <thead>\n",
              "    <tr style=\"text-align: right;\">\n",
              "      <th></th>\n",
              "      <th>models</th>\n",
              "      <th>Train_accuracy</th>\n",
              "      <th>Val_accuracy</th>\n",
              "    </tr>\n",
              "  </thead>\n",
              "  <tbody>\n",
              "    <tr>\n",
              "      <th>2</th>\n",
              "      <td>XGB</td>\n",
              "      <td>0.529289</td>\n",
              "      <td>0.513596</td>\n",
              "    </tr>\n",
              "    <tr>\n",
              "      <th>7</th>\n",
              "      <td>RF</td>\n",
              "      <td>0.997333</td>\n",
              "      <td>0.513596</td>\n",
              "    </tr>\n",
              "    <tr>\n",
              "      <th>8</th>\n",
              "      <td>EXT</td>\n",
              "      <td>0.997363</td>\n",
              "      <td>0.513127</td>\n",
              "    </tr>\n",
              "    <tr>\n",
              "      <th>6</th>\n",
              "      <td>DT</td>\n",
              "      <td>0.997363</td>\n",
              "      <td>0.512775</td>\n",
              "    </tr>\n",
              "    <tr>\n",
              "      <th>4</th>\n",
              "      <td>GBT</td>\n",
              "      <td>0.540454</td>\n",
              "      <td>0.512072</td>\n",
              "    </tr>\n",
              "    <tr>\n",
              "      <th>1</th>\n",
              "      <td>LGBM</td>\n",
              "      <td>0.626051</td>\n",
              "      <td>0.511838</td>\n",
              "    </tr>\n",
              "    <tr>\n",
              "      <th>0</th>\n",
              "      <td>CB</td>\n",
              "      <td>0.596044</td>\n",
              "      <td>0.511252</td>\n",
              "    </tr>\n",
              "    <tr>\n",
              "      <th>5</th>\n",
              "      <td>HGBT</td>\n",
              "      <td>0.664059</td>\n",
              "      <td>0.507384</td>\n",
              "    </tr>\n",
              "    <tr>\n",
              "      <th>3</th>\n",
              "      <td>ADA</td>\n",
              "      <td>0.476747</td>\n",
              "      <td>0.469058</td>\n",
              "    </tr>\n",
              "  </tbody>\n",
              "</table>\n",
              "</div>\n",
              "      <button class=\"colab-df-convert\" onclick=\"convertToInteractive('df-abb39a72-44dc-4acb-be33-d64bf6718a1d')\"\n",
              "              title=\"Convert this dataframe to an interactive table.\"\n",
              "              style=\"display:none;\">\n",
              "        \n",
              "  <svg xmlns=\"http://www.w3.org/2000/svg\" height=\"24px\"viewBox=\"0 0 24 24\"\n",
              "       width=\"24px\">\n",
              "    <path d=\"M0 0h24v24H0V0z\" fill=\"none\"/>\n",
              "    <path d=\"M18.56 5.44l.94 2.06.94-2.06 2.06-.94-2.06-.94-.94-2.06-.94 2.06-2.06.94zm-11 1L8.5 8.5l.94-2.06 2.06-.94-2.06-.94L8.5 2.5l-.94 2.06-2.06.94zm10 10l.94 2.06.94-2.06 2.06-.94-2.06-.94-.94-2.06-.94 2.06-2.06.94z\"/><path d=\"M17.41 7.96l-1.37-1.37c-.4-.4-.92-.59-1.43-.59-.52 0-1.04.2-1.43.59L10.3 9.45l-7.72 7.72c-.78.78-.78 2.05 0 2.83L4 21.41c.39.39.9.59 1.41.59.51 0 1.02-.2 1.41-.59l7.78-7.78 2.81-2.81c.8-.78.8-2.07 0-2.86zM5.41 20L4 18.59l7.72-7.72 1.47 1.35L5.41 20z\"/>\n",
              "  </svg>\n",
              "      </button>\n",
              "      \n",
              "  <style>\n",
              "    .colab-df-container {\n",
              "      display:flex;\n",
              "      flex-wrap:wrap;\n",
              "      gap: 12px;\n",
              "    }\n",
              "\n",
              "    .colab-df-convert {\n",
              "      background-color: #E8F0FE;\n",
              "      border: none;\n",
              "      border-radius: 50%;\n",
              "      cursor: pointer;\n",
              "      display: none;\n",
              "      fill: #1967D2;\n",
              "      height: 32px;\n",
              "      padding: 0 0 0 0;\n",
              "      width: 32px;\n",
              "    }\n",
              "\n",
              "    .colab-df-convert:hover {\n",
              "      background-color: #E2EBFA;\n",
              "      box-shadow: 0px 1px 2px rgba(60, 64, 67, 0.3), 0px 1px 3px 1px rgba(60, 64, 67, 0.15);\n",
              "      fill: #174EA6;\n",
              "    }\n",
              "\n",
              "    [theme=dark] .colab-df-convert {\n",
              "      background-color: #3B4455;\n",
              "      fill: #D2E3FC;\n",
              "    }\n",
              "\n",
              "    [theme=dark] .colab-df-convert:hover {\n",
              "      background-color: #434B5C;\n",
              "      box-shadow: 0px 1px 3px 1px rgba(0, 0, 0, 0.15);\n",
              "      filter: drop-shadow(0px 1px 2px rgba(0, 0, 0, 0.3));\n",
              "      fill: #FFFFFF;\n",
              "    }\n",
              "  </style>\n",
              "\n",
              "      <script>\n",
              "        const buttonEl =\n",
              "          document.querySelector('#df-abb39a72-44dc-4acb-be33-d64bf6718a1d button.colab-df-convert');\n",
              "        buttonEl.style.display =\n",
              "          google.colab.kernel.accessAllowed ? 'block' : 'none';\n",
              "\n",
              "        async function convertToInteractive(key) {\n",
              "          const element = document.querySelector('#df-abb39a72-44dc-4acb-be33-d64bf6718a1d');\n",
              "          const dataTable =\n",
              "            await google.colab.kernel.invokeFunction('convertToInteractive',\n",
              "                                                     [key], {});\n",
              "          if (!dataTable) return;\n",
              "\n",
              "          const docLinkHtml = 'Like what you see? Visit the ' +\n",
              "            '<a target=\"_blank\" href=https://colab.research.google.com/notebooks/data_table.ipynb>data table notebook</a>'\n",
              "            + ' to learn more about interactive tables.';\n",
              "          element.innerHTML = '';\n",
              "          dataTable['output_type'] = 'display_data';\n",
              "          await google.colab.output.renderOutput(dataTable, element);\n",
              "          const docLink = document.createElement('div');\n",
              "          docLink.innerHTML = docLinkHtml;\n",
              "          element.appendChild(docLink);\n",
              "        }\n",
              "      </script>\n",
              "    </div>\n",
              "  </div>\n",
              "  "
            ],
            "text/plain": [
              "  models  Train_accuracy  Val_accuracy\n",
              "2    XGB        0.529289      0.513596\n",
              "7     RF        0.997333      0.513596\n",
              "8    EXT        0.997363      0.513127\n",
              "6     DT        0.997363      0.512775\n",
              "4    GBT        0.540454      0.512072\n",
              "1   LGBM        0.626051      0.511838\n",
              "0     CB        0.596044      0.511252\n",
              "5   HGBT        0.664059      0.507384\n",
              "3    ADA        0.476747      0.469058"
            ]
          },
          "execution_count": 46,
          "metadata": {},
          "output_type": "execute_result"
        }
      ],
      "source": [
        "all_models.sort_values(\"Val_accuracy\", ascending = False)"
      ]
    },
    {
      "cell_type": "markdown",
      "metadata": {
        "id": "Z6zRDl4bu7Bs"
      },
      "source": [
        "## Hyperparameters - tuning"
      ]
    },
    {
      "cell_type": "code",
      "execution_count": null,
      "metadata": {
        "id": "SJN1O5S6u_gl"
      },
      "outputs": [],
      "source": [
        "\n",
        "#xgboost\n",
        "\n",
        "def objective(trial):\n",
        "    \n",
        "    params = {\n",
        "        #\"tree_method\": trial.suggest_categorical(\"tree_method\",[\"gpu_hist\"]), \n",
        "        'lambda': trial.suggest_loguniform('lambda', 1e-3, 10.0),\n",
        "        'alpha': trial.suggest_loguniform('alpha', 1e-3, 10.0),\n",
        "        'colsample_bytree': trial.suggest_categorical('colsample_bytree', [0.3,0.4,0.5,0.6,0.7,0.8,0.9,1.0]),\n",
        "        'subsample': trial.suggest_categorical('subsample', [0.4,0.5,0.6,0.7,0.8,0.9,1.0]),\n",
        "        'min_child_weight': trial.suggest_int('min_child_weight', 1, 300),       \n",
        "        #\"objective\": \"reg:squarederror\",\n",
        "        \"n_estimators\": trial.suggest_categorical(\"n_estimators\",[10000]),\n",
        "        \"gamma\": trial.suggest_int(\"gamma\", 0,5), \n",
        "        \"eta\": trial.suggest_loguniform(\"eta\",1e-2,0.1),\n",
        "        \"reg_alpha\": trial.suggest_int(\"reg_alpha\",1,50),\n",
        "        \"reg_lambda\": trial.suggest_int(\"reg_lambda\",5,100),\n",
        "        \"max_depth\": trial.suggest_int(\"max_depth\",1,10),\n",
        "    }\n",
        "    model = XGBClassifier(**params)      \n",
        "    model.fit(x_train_1,y_train,eval_set=[(x_val_1,y_val)],verbose=False,early_stopping_rounds=100)\n",
        "\n",
        "    y_preds = model.predict(x_val_1)   \n",
        "    accuracy = accuracy_score(y_val, y_preds)\n",
        "\n",
        "    return accuracy"
      ]
    },
    {
      "cell_type": "code",
      "execution_count": null,
      "metadata": {
        "colab": {
          "base_uri": "https://localhost:8080/"
        },
        "id": "I89VXvBXwMmj",
        "outputId": "47c313a5-1594-4e78-df91-ace47da578de"
      },
      "outputs": [
        {
          "name": "stderr",
          "output_type": "stream",
          "text": [
            "\u001b[32m[I 2022-01-21 13:09:33,344]\u001b[0m A new study created in memory with name: no-name-67af0ea1-2f4b-435e-87e0-088366ce7a27\u001b[0m\n",
            "\u001b[32m[I 2022-01-21 13:10:42,573]\u001b[0m Trial 0 finished with value: 0.5178152836380685 and parameters: {'lambda': 0.0018639172509050416, 'alpha': 0.33222646129548844, 'colsample_bytree': 0.9, 'subsample': 0.7, 'min_child_weight': 154, 'n_estimators': 10000, 'gamma': 5, 'eta': 0.01623981881685026, 'reg_alpha': 48, 'reg_lambda': 20, 'max_depth': 8}. Best is trial 0 with value: 0.5178152836380685.\u001b[0m\n",
            "\u001b[32m[I 2022-01-21 13:11:16,155]\u001b[0m Trial 1 finished with value: 0.5185185185185185 and parameters: {'lambda': 0.12932770265086466, 'alpha': 0.004836885213771091, 'colsample_bytree': 0.9, 'subsample': 0.8, 'min_child_weight': 163, 'n_estimators': 10000, 'gamma': 3, 'eta': 0.07310660203938195, 'reg_alpha': 38, 'reg_lambda': 24, 'max_depth': 4}. Best is trial 1 with value: 0.5185185185185185.\u001b[0m\n",
            "\u001b[32m[I 2022-01-21 13:11:55,772]\u001b[0m Trial 2 finished with value: 0.5167604313173934 and parameters: {'lambda': 6.341318160070581, 'alpha': 0.40313801745516364, 'colsample_bytree': 0.8, 'subsample': 0.5, 'min_child_weight': 124, 'n_estimators': 10000, 'gamma': 2, 'eta': 0.04397638947600206, 'reg_alpha': 48, 'reg_lambda': 22, 'max_depth': 7}. Best is trial 1 with value: 0.5185185185185185.\u001b[0m\n",
            "\u001b[32m[I 2022-01-21 13:12:23,554]\u001b[0m Trial 3 finished with value: 0.5181669010782934 and parameters: {'lambda': 1.0704299465085585, 'alpha': 0.002606889674395065, 'colsample_bytree': 0.9, 'subsample': 0.8, 'min_child_weight': 176, 'n_estimators': 10000, 'gamma': 4, 'eta': 0.02470059476419441, 'reg_alpha': 9, 'reg_lambda': 74, 'max_depth': 4}. Best is trial 1 with value: 0.5185185185185185.\u001b[0m\n",
            "\u001b[32m[I 2022-01-21 13:12:57,150]\u001b[0m Trial 4 finished with value: 0.5218002812939522 and parameters: {'lambda': 0.024306258942496984, 'alpha': 0.2523534821922182, 'colsample_bytree': 0.8, 'subsample': 0.6, 'min_child_weight': 58, 'n_estimators': 10000, 'gamma': 0, 'eta': 0.022213136535210096, 'reg_alpha': 47, 'reg_lambda': 41, 'max_depth': 7}. Best is trial 4 with value: 0.5218002812939522.\u001b[0m\n",
            "\u001b[32m[I 2022-01-21 13:13:13,620]\u001b[0m Trial 5 finished with value: 0.5024613220815752 and parameters: {'lambda': 2.698879306669658, 'alpha': 0.1724437441444626, 'colsample_bytree': 0.3, 'subsample': 0.5, 'min_child_weight': 218, 'n_estimators': 10000, 'gamma': 5, 'eta': 0.027914763147408338, 'reg_alpha': 45, 'reg_lambda': 58, 'max_depth': 8}. Best is trial 4 with value: 0.5218002812939522.\u001b[0m\n",
            "\u001b[32m[I 2022-01-21 13:13:36,063]\u001b[0m Trial 6 finished with value: 0.510548523206751 and parameters: {'lambda': 0.02324639335286176, 'alpha': 0.00450330545446496, 'colsample_bytree': 0.4, 'subsample': 0.8, 'min_child_weight': 250, 'n_estimators': 10000, 'gamma': 4, 'eta': 0.029670884874824242, 'reg_alpha': 48, 'reg_lambda': 98, 'max_depth': 5}. Best is trial 4 with value: 0.5218002812939522.\u001b[0m\n",
            "\u001b[32m[I 2022-01-21 13:13:48,630]\u001b[0m Trial 7 finished with value: 0.5153539615564932 and parameters: {'lambda': 0.06228979613730486, 'alpha': 0.7440084814666694, 'colsample_bytree': 0.5, 'subsample': 0.8, 'min_child_weight': 231, 'n_estimators': 10000, 'gamma': 0, 'eta': 0.017352056186240142, 'reg_alpha': 6, 'reg_lambda': 16, 'max_depth': 3}. Best is trial 4 with value: 0.5218002812939522.\u001b[0m\n",
            "\u001b[32m[I 2022-01-21 13:14:16,254]\u001b[0m Trial 8 finished with value: 0.5181669010782934 and parameters: {'lambda': 4.235906159481143, 'alpha': 0.5145424705503113, 'colsample_bytree': 0.5, 'subsample': 0.6, 'min_child_weight': 119, 'n_estimators': 10000, 'gamma': 4, 'eta': 0.051131283194948925, 'reg_alpha': 13, 'reg_lambda': 98, 'max_depth': 7}. Best is trial 4 with value: 0.5218002812939522.\u001b[0m\n",
            "\u001b[32m[I 2022-01-21 13:14:46,874]\u001b[0m Trial 9 finished with value: 0.5173464603844351 and parameters: {'lambda': 0.0018834946132947597, 'alpha': 8.342226299582855, 'colsample_bytree': 0.9, 'subsample': 0.9, 'min_child_weight': 226, 'n_estimators': 10000, 'gamma': 3, 'eta': 0.02876287323256806, 'reg_alpha': 29, 'reg_lambda': 53, 'max_depth': 3}. Best is trial 4 with value: 0.5218002812939522.\u001b[0m\n",
            "\u001b[32m[I 2022-01-21 13:15:20,823]\u001b[0m Trial 10 finished with value: 0.5242616033755274 and parameters: {'lambda': 0.009904041521221554, 'alpha': 0.02505009991914481, 'colsample_bytree': 0.8, 'subsample': 0.6, 'min_child_weight': 28, 'n_estimators': 10000, 'gamma': 0, 'eta': 0.010383719719941462, 'reg_alpha': 24, 'reg_lambda': 38, 'max_depth': 10}. Best is trial 10 with value: 0.5242616033755274.\u001b[0m\n",
            "\u001b[32m[I 2022-01-21 13:15:57,861]\u001b[0m Trial 11 finished with value: 0.5205110173464604 and parameters: {'lambda': 0.008542875399749482, 'alpha': 0.025674260157654574, 'colsample_bytree': 0.8, 'subsample': 0.6, 'min_child_weight': 13, 'n_estimators': 10000, 'gamma': 0, 'eta': 0.010405565738634237, 'reg_alpha': 20, 'reg_lambda': 38, 'max_depth': 10}. Best is trial 10 with value: 0.5242616033755274.\u001b[0m\n",
            "\u001b[32m[I 2022-01-21 13:16:28,696]\u001b[0m Trial 12 finished with value: 0.5201593999062354 and parameters: {'lambda': 0.29296689777406504, 'alpha': 0.030980958429886313, 'colsample_bytree': 0.7, 'subsample': 1.0, 'min_child_weight': 27, 'n_estimators': 10000, 'gamma': 1, 'eta': 0.01101096113074453, 'reg_alpha': 30, 'reg_lambda': 44, 'max_depth': 10}. Best is trial 10 with value: 0.5242616033755274.\u001b[0m\n",
            "\u001b[32m[I 2022-01-21 13:16:43,315]\u001b[0m Trial 13 finished with value: 0.5016408813877168 and parameters: {'lambda': 0.011035453297599026, 'alpha': 0.03907410593445532, 'colsample_bytree': 0.6, 'subsample': 0.4, 'min_child_weight': 72, 'n_estimators': 10000, 'gamma': 1, 'eta': 0.016603450771852057, 'reg_alpha': 21, 'reg_lambda': 67, 'max_depth': 1}. Best is trial 10 with value: 0.5242616033755274.\u001b[0m\n",
            "\u001b[32m[I 2022-01-21 13:17:21,398]\u001b[0m Trial 14 finished with value: 0.5187529301453352 and parameters: {'lambda': 0.007628439696122898, 'alpha': 2.8048538192216257, 'colsample_bytree': 0.8, 'subsample': 0.6, 'min_child_weight': 58, 'n_estimators': 10000, 'gamma': 1, 'eta': 0.013878150111702115, 'reg_alpha': 37, 'reg_lambda': 34, 'max_depth': 9}. Best is trial 10 with value: 0.5242616033755274.\u001b[0m\n",
            "\u001b[32m[I 2022-01-21 13:17:54,437]\u001b[0m Trial 15 finished with value: 0.5126582278481012 and parameters: {'lambda': 0.033053299554921624, 'alpha': 0.06942846217216819, 'colsample_bytree': 1.0, 'subsample': 0.6, 'min_child_weight': 300, 'n_estimators': 10000, 'gamma': 0, 'eta': 0.021384429808144808, 'reg_alpha': 37, 'reg_lambda': 6, 'max_depth': 6}. Best is trial 10 with value: 0.5242616033755274.\u001b[0m\n",
            "\u001b[32m[I 2022-01-21 13:18:26,878]\u001b[0m Trial 16 finished with value: 0.5220346929207689 and parameters: {'lambda': 0.2761500616443949, 'alpha': 0.01876056351969896, 'colsample_bytree': 0.8, 'subsample': 0.6, 'min_child_weight': 75, 'n_estimators': 10000, 'gamma': 2, 'eta': 0.04130032129941898, 'reg_alpha': 1, 'reg_lambda': 79, 'max_depth': 9}. Best is trial 10 with value: 0.5242616033755274.\u001b[0m\n",
            "\u001b[32m[I 2022-01-21 13:19:04,225]\u001b[0m Trial 17 finished with value: 0.5225035161744023 and parameters: {'lambda': 0.4580263988757491, 'alpha': 0.015273522683246606, 'colsample_bytree': 0.8, 'subsample': 1.0, 'min_child_weight': 94, 'n_estimators': 10000, 'gamma': 2, 'eta': 0.04562205638448346, 'reg_alpha': 1, 'reg_lambda': 79, 'max_depth': 9}. Best is trial 10 with value: 0.5242616033755274.\u001b[0m\n",
            "\u001b[32m[I 2022-01-21 13:19:30,096]\u001b[0m Trial 18 finished with value: 0.5233239568682607 and parameters: {'lambda': 0.8118320656513579, 'alpha': 0.00924290375976298, 'colsample_bytree': 0.4, 'subsample': 1.0, 'min_child_weight': 101, 'n_estimators': 10000, 'gamma': 2, 'eta': 0.07357238867993084, 'reg_alpha': 17, 'reg_lambda': 82, 'max_depth': 10}. Best is trial 10 with value: 0.5242616033755274.\u001b[0m\n",
            "\u001b[32m[I 2022-01-21 13:19:56,226]\u001b[0m Trial 19 finished with value: 0.5215658696671355 and parameters: {'lambda': 0.958829894703399, 'alpha': 0.008629761157075758, 'colsample_bytree': 0.4, 'subsample': 1.0, 'min_child_weight': 24, 'n_estimators': 10000, 'gamma': 1, 'eta': 0.09543749021120393, 'reg_alpha': 19, 'reg_lambda': 88, 'max_depth': 10}. Best is trial 10 with value: 0.5242616033755274.\u001b[0m\n",
            "\u001b[32m[I 2022-01-21 13:20:17,552]\u001b[0m Trial 20 finished with value: 0.5147679324894515 and parameters: {'lambda': 0.0010797906756119142, 'alpha': 0.0017506165529497348, 'colsample_bytree': 0.4, 'subsample': 0.4, 'min_child_weight': 108, 'n_estimators': 10000, 'gamma': 3, 'eta': 0.06352755639498597, 'reg_alpha': 15, 'reg_lambda': 88, 'max_depth': 8}. Best is trial 10 with value: 0.5242616033755274.\u001b[0m\n",
            "\u001b[32m[I 2022-01-21 13:20:43,755]\u001b[0m Trial 21 finished with value: 0.5168776371308017 and parameters: {'lambda': 0.5595444332263533, 'alpha': 0.011945296249017716, 'colsample_bytree': 0.3, 'subsample': 1.0, 'min_child_weight': 100, 'n_estimators': 10000, 'gamma': 2, 'eta': 0.09926251331564107, 'reg_alpha': 27, 'reg_lambda': 65, 'max_depth': 9}. Best is trial 10 with value: 0.5242616033755274.\u001b[0m\n",
            "\u001b[32m[I 2022-01-21 13:21:14,742]\u001b[0m Trial 22 finished with value: 0.5243788091889358 and parameters: {'lambda': 1.8641502304234356, 'alpha': 0.07886435539210188, 'colsample_bytree': 0.7, 'subsample': 1.0, 'min_child_weight': 36, 'n_estimators': 10000, 'gamma': 2, 'eta': 0.06642066306283866, 'reg_alpha': 1, 'reg_lambda': 84, 'max_depth': 10}. Best is trial 22 with value: 0.5243788091889358.\u001b[0m\n",
            "\u001b[32m[I 2022-01-21 13:21:44,558]\u001b[0m Trial 23 finished with value: 0.5198077824660103 and parameters: {'lambda': 1.6711914300347823, 'alpha': 0.0688792520799695, 'colsample_bytree': 0.7, 'subsample': 1.0, 'min_child_weight': 40, 'n_estimators': 10000, 'gamma': 1, 'eta': 0.0728656774163517, 'reg_alpha': 24, 'reg_lambda': 87, 'max_depth': 10}. Best is trial 22 with value: 0.5243788091889358.\u001b[0m\n",
            "\u001b[32m[I 2022-01-21 13:22:29,231]\u001b[0m Trial 24 finished with value: 0.5191045475855602 and parameters: {'lambda': 0.11395098275414417, 'alpha': 0.11294898457353576, 'colsample_bytree': 0.7, 'subsample': 0.7, 'min_child_weight': 2, 'n_estimators': 10000, 'gamma': 2, 'eta': 0.05559376318583471, 'reg_alpha': 14, 'reg_lambda': 64, 'max_depth': 10}. Best is trial 22 with value: 0.5243788091889358.\u001b[0m\n",
            "\u001b[32m[I 2022-01-21 13:23:08,919]\u001b[0m Trial 25 finished with value: 0.5208626347866854 and parameters: {'lambda': 2.01105450687947, 'alpha': 0.006356851989268556, 'colsample_bytree': 1.0, 'subsample': 0.9, 'min_child_weight': 44, 'n_estimators': 10000, 'gamma': 3, 'eta': 0.0355086148934097, 'reg_alpha': 8, 'reg_lambda': 48, 'max_depth': 8}. Best is trial 22 with value: 0.5243788091889358.\u001b[0m\n",
            "\u001b[32m[I 2022-01-21 13:23:32,684]\u001b[0m Trial 26 finished with value: 0.5182841068917018 and parameters: {'lambda': 7.746112171806968, 'alpha': 1.0900273842256163, 'colsample_bytree': 0.6, 'subsample': 1.0, 'min_child_weight': 78, 'n_estimators': 10000, 'gamma': 1, 'eta': 0.07594392109892645, 'reg_alpha': 33, 'reg_lambda': 30, 'max_depth': 9}. Best is trial 22 with value: 0.5243788091889358.\u001b[0m\n",
            "\u001b[32m[I 2022-01-21 13:23:49,841]\u001b[0m Trial 27 finished with value: 0.5012892639474918 and parameters: {'lambda': 0.21759874103409246, 'alpha': 0.05410930766764616, 'colsample_bytree': 0.7, 'subsample': 1.0, 'min_child_weight': 138, 'n_estimators': 10000, 'gamma': 2, 'eta': 0.0855714374790935, 'reg_alpha': 16, 'reg_lambda': 75, 'max_depth': 1}. Best is trial 22 with value: 0.5243788091889358.\u001b[0m\n",
            "\u001b[32m[I 2022-01-21 13:24:11,738]\u001b[0m Trial 28 finished with value: 0.520042194092827 and parameters: {'lambda': 0.003776402454082922, 'alpha': 0.0013071556870137572, 'colsample_bytree': 0.4, 'subsample': 1.0, 'min_child_weight': 41, 'n_estimators': 10000, 'gamma': 0, 'eta': 0.036294427728154575, 'reg_alpha': 24, 'reg_lambda': 56, 'max_depth': 6}. Best is trial 22 with value: 0.5243788091889358.\u001b[0m\n",
            "\u001b[32m[I 2022-01-21 13:24:31,476]\u001b[0m Trial 29 finished with value: 0.516643225503985 and parameters: {'lambda': 0.8015031482094883, 'alpha': 0.12290025319243279, 'colsample_bytree': 0.4, 'subsample': 0.9, 'min_child_weight': 191, 'n_estimators': 10000, 'gamma': 5, 'eta': 0.06482379375242038, 'reg_alpha': 5, 'reg_lambda': 94, 'max_depth': 8}. Best is trial 22 with value: 0.5243788091889358.\u001b[0m\n",
            "\u001b[32m[I 2022-01-21 13:25:05,532]\u001b[0m Trial 30 finished with value: 0.5203938115330521 and parameters: {'lambda': 0.052116676471682825, 'alpha': 0.003673925693758838, 'colsample_bytree': 0.7, 'subsample': 0.7, 'min_child_weight': 133, 'n_estimators': 10000, 'gamma': 3, 'eta': 0.013405553059221044, 'reg_alpha': 12, 'reg_lambda': 70, 'max_depth': 10}. Best is trial 22 with value: 0.5243788091889358.\u001b[0m\n",
            "\u001b[32m[I 2022-01-21 13:25:52,556]\u001b[0m Trial 31 finished with value: 0.5232067510548524 and parameters: {'lambda': 0.4860361505951252, 'alpha': 0.015614319411029157, 'colsample_bytree': 0.8, 'subsample': 1.0, 'min_child_weight': 87, 'n_estimators': 10000, 'gamma': 2, 'eta': 0.05214360376028944, 'reg_alpha': 2, 'reg_lambda': 83, 'max_depth': 9}. Best is trial 22 with value: 0.5243788091889358.\u001b[0m\n",
            "\u001b[32m[I 2022-01-21 13:26:24,336]\u001b[0m Trial 32 finished with value: 0.5191045475855602 and parameters: {'lambda': 3.5909019314680033, 'alpha': 0.012575302730013258, 'colsample_bytree': 0.8, 'subsample': 1.0, 'min_child_weight': 87, 'n_estimators': 10000, 'gamma': 2, 'eta': 0.05712123242832586, 'reg_alpha': 4, 'reg_lambda': 82, 'max_depth': 9}. Best is trial 22 with value: 0.5243788091889358.\u001b[0m\n",
            "\u001b[32m[I 2022-01-21 13:27:03,238]\u001b[0m Trial 33 finished with value: 0.5194561650257853 and parameters: {'lambda': 0.16513753104906273, 'alpha': 0.02260340897146351, 'colsample_bytree': 0.8, 'subsample': 0.5, 'min_child_weight': 64, 'n_estimators': 10000, 'gamma': 3, 'eta': 0.07711695426475945, 'reg_alpha': 10, 'reg_lambda': 85, 'max_depth': 10}. Best is trial 22 with value: 0.5243788091889358.\u001b[0m\n",
            "\u001b[32m[I 2022-01-21 13:27:47,543]\u001b[0m Trial 34 finished with value: 0.5223863103609939 and parameters: {'lambda': 0.5025553997353174, 'alpha': 0.04447912000263742, 'colsample_bytree': 1.0, 'subsample': 1.0, 'min_child_weight': 2, 'n_estimators': 10000, 'gamma': 2, 'eta': 0.0647415359859071, 'reg_alpha': 18, 'reg_lambda': 93, 'max_depth': 9}. Best is trial 22 with value: 0.5243788091889358.\u001b[0m\n",
            "\u001b[32m[I 2022-01-21 13:28:40,600]\u001b[0m Trial 35 finished with value: 0.5222691045475856 and parameters: {'lambda': 1.3910640786978765, 'alpha': 0.00747438983716427, 'colsample_bytree': 0.9, 'subsample': 1.0, 'min_child_weight': 155, 'n_estimators': 10000, 'gamma': 1, 'eta': 0.048487693800398926, 'reg_alpha': 3, 'reg_lambda': 73, 'max_depth': 8}. Best is trial 22 with value: 0.5243788091889358.\u001b[0m\n",
            "\u001b[32m[I 2022-01-21 13:29:00,947]\u001b[0m Trial 36 finished with value: 0.5111345522737928 and parameters: {'lambda': 5.3571405114541015, 'alpha': 0.2046479292186456, 'colsample_bytree': 0.3, 'subsample': 0.4, 'min_child_weight': 110, 'n_estimators': 10000, 'gamma': 4, 'eta': 0.039991017780707315, 'reg_alpha': 8, 'reg_lambda': 30, 'max_depth': 7}. Best is trial 22 with value: 0.5243788091889358.\u001b[0m\n",
            "\u001b[32m[I 2022-01-21 13:29:41,579]\u001b[0m Trial 37 finished with value: 0.5201593999062354 and parameters: {'lambda': 9.656950975063642, 'alpha': 0.0024033995643762446, 'colsample_bytree': 0.8, 'subsample': 0.5, 'min_child_weight': 50, 'n_estimators': 10000, 'gamma': 2, 'eta': 0.0851113346561136, 'reg_alpha': 22, 'reg_lambda': 59, 'max_depth': 10}. Best is trial 22 with value: 0.5243788091889358.\u001b[0m\n",
            "\u001b[32m[I 2022-01-21 13:30:14,545]\u001b[0m Trial 38 finished with value: 0.5175808720112518 and parameters: {'lambda': 2.4588051594616047, 'alpha': 0.004038131919254203, 'colsample_bytree': 0.5, 'subsample': 0.7, 'min_child_weight': 34, 'n_estimators': 10000, 'gamma': 3, 'eta': 0.05624848643462513, 'reg_alpha': 42, 'reg_lambda': 48, 'max_depth': 9}. Best is trial 22 with value: 0.5243788091889358.\u001b[0m\n",
            "\u001b[32m[I 2022-01-21 13:30:42,071]\u001b[0m Trial 39 finished with value: 0.5165260196905767 and parameters: {'lambda': 0.06620080948345371, 'alpha': 0.3229297625904438, 'colsample_bytree': 0.6, 'subsample': 0.8, 'min_child_weight': 88, 'n_estimators': 10000, 'gamma': 4, 'eta': 0.034317139453115195, 'reg_alpha': 11, 'reg_lambda': 92, 'max_depth': 5}. Best is trial 22 with value: 0.5243788091889358.\u001b[0m\n",
            "\u001b[32m[I 2022-01-21 13:31:01,642]\u001b[0m Trial 40 finished with value: 0.5182841068917018 and parameters: {'lambda': 0.8163018978248927, 'alpha': 0.08062511478146299, 'colsample_bytree': 0.4, 'subsample': 1.0, 'min_child_weight': 170, 'n_estimators': 10000, 'gamma': 0, 'eta': 0.01984062154202214, 'reg_alpha': 33, 'reg_lambda': 100, 'max_depth': 7}. Best is trial 22 with value: 0.5243788091889358.\u001b[0m\n",
            "\u001b[32m[I 2022-01-21 13:31:40,111]\u001b[0m Trial 41 finished with value: 0.5235583684950773 and parameters: {'lambda': 0.3719899883709421, 'alpha': 0.01652032640206729, 'colsample_bytree': 0.8, 'subsample': 1.0, 'min_child_weight': 99, 'n_estimators': 10000, 'gamma': 2, 'eta': 0.04440003101802159, 'reg_alpha': 1, 'reg_lambda': 78, 'max_depth': 9}. Best is trial 22 with value: 0.5243788091889358.\u001b[0m\n",
            "\u001b[32m[I 2022-01-21 13:32:11,308]\u001b[0m Trial 42 finished with value: 0.5203938115330521 and parameters: {'lambda': 0.376748799141023, 'alpha': 0.009678829411577689, 'colsample_bytree': 0.8, 'subsample': 1.0, 'min_child_weight': 125, 'n_estimators': 10000, 'gamma': 2, 'eta': 0.05176448475807033, 'reg_alpha': 3, 'reg_lambda': 81, 'max_depth': 10}. Best is trial 22 with value: 0.5243788091889358.\u001b[0m\n",
            "\u001b[32m[I 2022-01-21 13:32:56,238]\u001b[0m Trial 43 finished with value: 0.5192217533989686 and parameters: {'lambda': 1.302538472744408, 'alpha': 0.033057297150562305, 'colsample_bytree': 0.8, 'subsample': 1.0, 'min_child_weight': 17, 'n_estimators': 10000, 'gamma': 1, 'eta': 0.04375649364200707, 'reg_alpha': 6, 'reg_lambda': 76, 'max_depth': 8}. Best is trial 22 with value: 0.5243788091889358.\u001b[0m\n",
            "\u001b[32m[I 2022-01-21 13:33:36,638]\u001b[0m Trial 44 finished with value: 0.5208626347866854 and parameters: {'lambda': 0.1494129557404156, 'alpha': 0.01809309279003926, 'colsample_bytree': 0.8, 'subsample': 0.6, 'min_child_weight': 148, 'n_estimators': 10000, 'gamma': 3, 'eta': 0.06829899619049741, 'reg_alpha': 9, 'reg_lambda': 70, 'max_depth': 9}. Best is trial 22 with value: 0.5243788091889358.\u001b[0m\n",
            "\u001b[32m[I 2022-01-21 13:34:17,556]\u001b[0m Trial 45 finished with value: 0.5185185185185185 and parameters: {'lambda': 0.818964170300851, 'alpha': 0.0057585406533685515, 'colsample_bytree': 0.9, 'subsample': 0.8, 'min_child_weight': 62, 'n_estimators': 10000, 'gamma': 2, 'eta': 0.025506583635317635, 'reg_alpha': 1, 'reg_lambda': 62, 'max_depth': 10}. Best is trial 22 with value: 0.5243788091889358.\u001b[0m\n",
            "\u001b[32m[I 2022-01-21 13:34:55,638]\u001b[0m Trial 46 finished with value: 0.5206282231598687 and parameters: {'lambda': 0.2325300957536186, 'alpha': 0.049470217100909666, 'colsample_bytree': 0.8, 'subsample': 1.0, 'min_child_weight': 114, 'n_estimators': 10000, 'gamma': 1, 'eta': 0.05953770655713854, 'reg_alpha': 6, 'reg_lambda': 83, 'max_depth': 9}. Best is trial 22 with value: 0.5243788091889358.\u001b[0m\n",
            "\u001b[32m[I 2022-01-21 13:35:21,950]\u001b[0m Trial 47 finished with value: 0.5202766057196437 and parameters: {'lambda': 0.6529195028371023, 'alpha': 0.02444255101631399, 'colsample_bytree': 0.5, 'subsample': 0.6, 'min_child_weight': 83, 'n_estimators': 10000, 'gamma': 2, 'eta': 0.050019446891829675, 'reg_alpha': 27, 'reg_lambda': 15, 'max_depth': 8}. Best is trial 22 with value: 0.5243788091889358.\u001b[0m\n",
            "\u001b[32m[I 2022-01-21 13:36:18,278]\u001b[0m Trial 48 finished with value: 0.5199249882794187 and parameters: {'lambda': 3.1437738083324893, 'alpha': 0.12964554218882063, 'colsample_bytree': 0.7, 'subsample': 0.5, 'min_child_weight': 100, 'n_estimators': 10000, 'gamma': 3, 'eta': 0.08234387820229644, 'reg_alpha': 17, 'reg_lambda': 91, 'max_depth': 10}. Best is trial 22 with value: 0.5243788091889358.\u001b[0m\n",
            "\u001b[32m[I 2022-01-21 13:36:37,819]\u001b[0m Trial 49 finished with value: 0.5193389592123769 and parameters: {'lambda': 0.3583367039021737, 'alpha': 0.0027528734520560114, 'colsample_bytree': 0.8, 'subsample': 1.0, 'min_child_weight': 54, 'n_estimators': 10000, 'gamma': 1, 'eta': 0.040289139463310496, 'reg_alpha': 3, 'reg_lambda': 41, 'max_depth': 4}. Best is trial 22 with value: 0.5243788091889358.\u001b[0m\n"
          ]
        }
      ],
      "source": [
        "study = optuna.create_study(direction='maximize')\n",
        "study.optimize(objective, n_trials=50)"
      ]
    },
    {
      "cell_type": "code",
      "execution_count": null,
      "metadata": {
        "colab": {
          "base_uri": "https://localhost:8080/"
        },
        "id": "-Jjp9PDy2q9g",
        "outputId": "a447047c-370b-439f-bd53-ca524a0e5703"
      },
      "outputs": [
        {
          "data": {
            "text/plain": [
              "{'alpha': 0.07886435539210188,\n",
              " 'colsample_bytree': 0.7,\n",
              " 'eta': 0.06642066306283866,\n",
              " 'gamma': 2,\n",
              " 'lambda': 1.8641502304234356,\n",
              " 'max_depth': 10,\n",
              " 'min_child_weight': 36,\n",
              " 'n_estimators': 10000,\n",
              " 'reg_alpha': 1,\n",
              " 'reg_lambda': 84,\n",
              " 'subsample': 1.0}"
            ]
          },
          "execution_count": 51,
          "metadata": {},
          "output_type": "execute_result"
        }
      ],
      "source": [
        "xgb_params = study.best_trial.params\n",
        "xgb_params"
      ]
    },
    {
      "cell_type": "markdown",
      "metadata": {
        "id": "0piwzyyf20gB"
      },
      "source": [
        "## Cross validation"
      ]
    },
    {
      "cell_type": "code",
      "execution_count": null,
      "metadata": {
        "id": "Gb7YE8d423E2"
      },
      "outputs": [],
      "source": [
        "\n",
        "# Cross validation for xgboost\n",
        "\n",
        "def cross_val(X, y, model, params, folds=7):\n",
        "\n",
        "    score = []\n",
        "    \n",
        "    skf = StratifiedKFold(n_splits=folds, shuffle=True, random_state=21)\n",
        "\n",
        "    for fold, (train_idx, test_idx) in enumerate(skf.split(X, y)):\n",
        "        print(f\"Fold: {fold+1}\")\n",
        "        x_train, y_train = X.iloc[train_idx], y.iloc[train_idx]\n",
        "        x_test, y_test = X.iloc[test_idx], y.iloc[test_idx]\n",
        "        \n",
        "        #fit\n",
        "        alg = model(**params,random_state=2021)\n",
        "        alg.fit(x_train,y_train,eval_set=[(x_test,y_test)],verbose=False,early_stopping_rounds=100)\n",
        "\n",
        "        #predict validation\n",
        "        pred = alg.predict(x_test)\n",
        "        acc = accuracy_score(y_test, pred)\n",
        "        score.append(acc)\n",
        "        \n",
        "        print(f\" Accuracy: {acc}\")\n",
        "        print(\"-\"*50)\n",
        "     \n",
        "    print(\"\\nmean accuracy:\",np.array(score).mean())\n",
        "\n",
        "    return alg"
      ]
    },
    {
      "cell_type": "code",
      "execution_count": null,
      "metadata": {
        "id": "DqMvwH843Xse"
      },
      "outputs": [],
      "source": [
        "#buat data baru \n",
        "\n",
        "x_new = pd.concat([x_train_1, x_val_1]) \n",
        "y_new = pd.concat([y_train, y_val])"
      ]
    },
    {
      "cell_type": "code",
      "execution_count": null,
      "metadata": {
        "colab": {
          "background_save": true,
          "base_uri": "https://localhost:8080/"
        },
        "id": "fRgHD2863cSU",
        "outputId": "db6854ce-5444-4f20-83ef-16452f826f89"
      },
      "outputs": [
        {
          "name": "stdout",
          "output_type": "stream",
          "text": [
            "Fold: 1\n",
            " Accuracy: 0.523629799803085\n",
            "--------------------------------------------------\n",
            "Fold: 2\n",
            " Accuracy: 0.5167377748605185\n",
            "--------------------------------------------------\n",
            "Fold: 3\n",
            " Accuracy: 0.5277321956022317\n",
            "--------------------------------------------------\n",
            "Fold: 4\n",
            " Accuracy: 0.529865441417788\n",
            "--------------------------------------------------\n",
            "Fold: 5\n",
            " Accuracy: 0.5297013455858222\n",
            "--------------------------------------------------\n",
            "Fold: 6\n",
            " Accuracy: 0.5136199540531671\n",
            "--------------------------------------------------\n",
            "Fold: 7\n",
            " Accuracy: 0.5187920564582308\n",
            "--------------------------------------------------\n",
            "\n",
            "mean accuracy: 0.5228683668258347\n"
          ]
        }
      ],
      "source": [
        "xgb_score = cross_val(x_new, y_new, XGBClassifier, xgb_params)"
      ]
    },
    {
      "cell_type": "code",
      "source": [
        "## coba data validation"
      ],
      "metadata": {
        "id": "WhC07TUO4i2B"
      },
      "execution_count": null,
      "outputs": []
    },
    {
      "cell_type": "code",
      "source": [
        "\n",
        "\n",
        "prob_pred = xgb_score.predict_proba(x_val_1)\n",
        "pred = xgb_score.predict(x_val_1)"
      ],
      "metadata": {
        "id": "xW3Dxzf-1i2o"
      },
      "execution_count": null,
      "outputs": []
    },
    {
      "cell_type": "code",
      "source": [
        "accuracy_score(y_val, pred)"
      ],
      "metadata": {
        "colab": {
          "base_uri": "https://localhost:8080/"
        },
        "id": "xNfnyGSy1m-p",
        "outputId": "2e32b91e-089a-4973-a9a5-340d6c88c32d"
      },
      "execution_count": null,
      "outputs": [
        {
          "output_type": "execute_result",
          "data": {
            "text/plain": [
              "0.5505157055789968"
            ]
          },
          "metadata": {},
          "execution_count": 49
        }
      ]
    },
    {
      "cell_type": "code",
      "source": [
        "plot_confusion_matrix(xgb_score, x_val_1, y_val)"
      ],
      "metadata": {
        "colab": {
          "base_uri": "https://localhost:8080/",
          "height": 276
        },
        "id": "EGimksJU5DCJ",
        "outputId": "d5cf9f04-ba05-4d50-d236-f5af65be89e5"
      },
      "execution_count": null,
      "outputs": [
        {
          "output_type": "execute_result",
          "data": {
            "text/plain": [
              "<sklearn.metrics._plot.confusion_matrix.ConfusionMatrixDisplay at 0x7f5a048b60d0>"
            ]
          },
          "metadata": {},
          "execution_count": 47
        },
        {
          "output_type": "display_data",
          "data": {
            "image/png": "[encoded data removed]",
            "text/plain": [
              "<Figure size 432x288 with 2 Axes>"
            ]
          },
          "metadata": {
            "needs_background": "light"
          }
        }
      ]
    },
    {
      "cell_type": "code",
      "source": [
        "import scikitplot as skp\n",
        "skp.metrics.plot_roc(pred, prob_pred)"
      ],
      "metadata": {
        "id": "L5I2PPvC5k-p",
        "colab": {
          "base_uri": "https://localhost:8080/",
          "height": 245
        },
        "outputId": "0a2e0f2e-609f-4873-fce5-a7e151c6ce6e"
      },
      "execution_count": null,
      "outputs": [
        {
          "output_type": "execute_result",
          "data": {
            "text/plain": [
              "<matplotlib.axes._subplots.AxesSubplot at 0x7f5a0251fa90>"
            ]
          },
          "metadata": {},
          "execution_count": 55
        },
        {
          "output_type": "display_data",
          "data": {
            "image/png": "[encoded data removed]",
            "text/plain": [
              "<Figure size 432x288 with 1 Axes>"
            ]
          },
          "metadata": {
            "needs_background": "light"
          }
        }
      ]
    },
    {
      "cell_type": "code",
      "source": [
        "classification_report(y_val, pred)"
      ],
      "metadata": {
        "colab": {
          "base_uri": "https://localhost:8080/",
          "height": 239
        },
        "id": "O6Uoz9jU6mC6",
        "outputId": "693b9f5e-f939-4268-9bf2-75c0029fcfb6"
      },
      "execution_count": null,
      "outputs": [
        {
          "output_type": "execute_result",
          "data": {
            "application/vnd.google.colaboratory.intrinsic+json": {
              "type": "string"
            },
            "text/plain": [
              "'              precision    recall  f1-score   support\\n\\n           a       0.56      0.76      0.65      4182\\n           s       0.76      0.23      0.35       368\\n           u       0.52      0.42      0.46      3254\\n           w       0.49      0.12      0.19       728\\n\\n    accuracy                           0.55      8532\\n   macro avg       0.58      0.38      0.41      8532\\nweighted avg       0.55      0.55      0.52      8532\\n'"
            ]
          },
          "metadata": {},
          "execution_count": 56
        }
      ]
    },
    {
      "cell_type": "code",
      "source": [
        "## buat file submission"
      ],
      "metadata": {
        "id": "UAy9MaPa2R20"
      },
      "execution_count": null,
      "outputs": []
    },
    {
      "cell_type": "code",
      "source": [
        "\n",
        "# ubah ke nominal untuk fitur category\n",
        "\n",
        "for i in cater:\n",
        "      test[i] = le[i].transform(test[i])"
      ],
      "metadata": {
        "id": "e0D8247a15SE"
      },
      "execution_count": null,
      "outputs": []
    },
    {
      "cell_type": "code",
      "source": [
        "test.drop(\"season\",axis=1, inplace=True)"
      ],
      "metadata": {
        "id": "pfYkJmMr1uVd"
      },
      "execution_count": null,
      "outputs": []
    },
    {
      "cell_type": "code",
      "source": [
        "test"
      ],
      "metadata": {
        "colab": {
          "base_uri": "https://localhost:8080/",
          "height": 534
        },
        "id": "cvYmWzDA2nf_",
        "outputId": "8033c5e7-d19d-425a-bc8d-1ef613e6236b"
      },
      "execution_count": null,
      "outputs": [
        {
          "output_type": "execute_result",
          "data": {
            "text/html": [
              "\n",
              "  <div id=\"df-fa7d8544-057e-4fef-b580-a53dd1a1ee83\">\n",
              "    <div class=\"colab-df-container\">\n",
              "      <div>\n",
              "<style scoped>\n",
              "    .dataframe tbody tr th:only-of-type {\n",
              "        vertical-align: middle;\n",
              "    }\n",
              "\n",
              "    .dataframe tbody tr th {\n",
              "        vertical-align: top;\n",
              "    }\n",
              "\n",
              "    .dataframe thead th {\n",
              "        text-align: right;\n",
              "    }\n",
              "</style>\n",
              "<table border=\"1\" class=\"dataframe\">\n",
              "  <thead>\n",
              "    <tr style=\"text-align: right;\">\n",
              "      <th></th>\n",
              "      <th>edible-poisonous</th>\n",
              "      <th>cap-diameter</th>\n",
              "      <th>cap-shape</th>\n",
              "      <th>cap-color</th>\n",
              "      <th>does-bruise-or-bleed</th>\n",
              "      <th>gill-attachment</th>\n",
              "      <th>gill-color</th>\n",
              "      <th>stem-height</th>\n",
              "      <th>stem-width</th>\n",
              "      <th>stem-color</th>\n",
              "      <th>has-ring</th>\n",
              "      <th>ring-type</th>\n",
              "      <th>habitat</th>\n",
              "      <th>has-gill-color</th>\n",
              "      <th>has-gill-attachment</th>\n",
              "      <th>has-stem-color</th>\n",
              "    </tr>\n",
              "  </thead>\n",
              "  <tbody>\n",
              "    <tr>\n",
              "      <th>0</th>\n",
              "      <td>0</td>\n",
              "      <td>4.68</td>\n",
              "      <td>6</td>\n",
              "      <td>10</td>\n",
              "      <td>0</td>\n",
              "      <td>6</td>\n",
              "      <td>10</td>\n",
              "      <td>8.22</td>\n",
              "      <td>9.58</td>\n",
              "      <td>6</td>\n",
              "      <td>1</td>\n",
              "      <td>1</td>\n",
              "      <td>1</td>\n",
              "      <td>1</td>\n",
              "      <td>1</td>\n",
              "      <td>1</td>\n",
              "    </tr>\n",
              "    <tr>\n",
              "      <th>1</th>\n",
              "      <td>1</td>\n",
              "      <td>10.33</td>\n",
              "      <td>6</td>\n",
              "      <td>11</td>\n",
              "      <td>0</td>\n",
              "      <td>0</td>\n",
              "      <td>11</td>\n",
              "      <td>11.98</td>\n",
              "      <td>13.29</td>\n",
              "      <td>12</td>\n",
              "      <td>1</td>\n",
              "      <td>1</td>\n",
              "      <td>0</td>\n",
              "      <td>1</td>\n",
              "      <td>1</td>\n",
              "      <td>1</td>\n",
              "    </tr>\n",
              "    <tr>\n",
              "      <th>2</th>\n",
              "      <td>1</td>\n",
              "      <td>9.26</td>\n",
              "      <td>6</td>\n",
              "      <td>10</td>\n",
              "      <td>1</td>\n",
              "      <td>3</td>\n",
              "      <td>10</td>\n",
              "      <td>7.41</td>\n",
              "      <td>12.68</td>\n",
              "      <td>11</td>\n",
              "      <td>1</td>\n",
              "      <td>3</td>\n",
              "      <td>1</td>\n",
              "      <td>1</td>\n",
              "      <td>0</td>\n",
              "      <td>1</td>\n",
              "    </tr>\n",
              "    <tr>\n",
              "      <th>3</th>\n",
              "      <td>1</td>\n",
              "      <td>14.90</td>\n",
              "      <td>5</td>\n",
              "      <td>10</td>\n",
              "      <td>1</td>\n",
              "      <td>1</td>\n",
              "      <td>10</td>\n",
              "      <td>5.33</td>\n",
              "      <td>23.03</td>\n",
              "      <td>11</td>\n",
              "      <td>0</td>\n",
              "      <td>1</td>\n",
              "      <td>0</td>\n",
              "      <td>1</td>\n",
              "      <td>1</td>\n",
              "      <td>1</td>\n",
              "    </tr>\n",
              "    <tr>\n",
              "      <th>4</th>\n",
              "      <td>1</td>\n",
              "      <td>1.01</td>\n",
              "      <td>6</td>\n",
              "      <td>10</td>\n",
              "      <td>0</td>\n",
              "      <td>0</td>\n",
              "      <td>10</td>\n",
              "      <td>3.17</td>\n",
              "      <td>1.64</td>\n",
              "      <td>1</td>\n",
              "      <td>0</td>\n",
              "      <td>1</td>\n",
              "      <td>3</td>\n",
              "      <td>1</td>\n",
              "      <td>1</td>\n",
              "      <td>1</td>\n",
              "    </tr>\n",
              "    <tr>\n",
              "      <th>...</th>\n",
              "      <td>...</td>\n",
              "      <td>...</td>\n",
              "      <td>...</td>\n",
              "      <td>...</td>\n",
              "      <td>...</td>\n",
              "      <td>...</td>\n",
              "      <td>...</td>\n",
              "      <td>...</td>\n",
              "      <td>...</td>\n",
              "      <td>...</td>\n",
              "      <td>...</td>\n",
              "      <td>...</td>\n",
              "      <td>...</td>\n",
              "      <td>...</td>\n",
              "      <td>...</td>\n",
              "      <td>...</td>\n",
              "    </tr>\n",
              "    <tr>\n",
              "      <th>18316</th>\n",
              "      <td>0</td>\n",
              "      <td>8.59</td>\n",
              "      <td>3</td>\n",
              "      <td>5</td>\n",
              "      <td>0</td>\n",
              "      <td>3</td>\n",
              "      <td>10</td>\n",
              "      <td>4.11</td>\n",
              "      <td>19.54</td>\n",
              "      <td>6</td>\n",
              "      <td>0</td>\n",
              "      <td>1</td>\n",
              "      <td>0</td>\n",
              "      <td>1</td>\n",
              "      <td>0</td>\n",
              "      <td>1</td>\n",
              "    </tr>\n",
              "    <tr>\n",
              "      <th>18317</th>\n",
              "      <td>0</td>\n",
              "      <td>7.23</td>\n",
              "      <td>5</td>\n",
              "      <td>10</td>\n",
              "      <td>0</td>\n",
              "      <td>1</td>\n",
              "      <td>7</td>\n",
              "      <td>3.56</td>\n",
              "      <td>9.42</td>\n",
              "      <td>11</td>\n",
              "      <td>0</td>\n",
              "      <td>1</td>\n",
              "      <td>0</td>\n",
              "      <td>1</td>\n",
              "      <td>1</td>\n",
              "      <td>1</td>\n",
              "    </tr>\n",
              "    <tr>\n",
              "      <th>18318</th>\n",
              "      <td>0</td>\n",
              "      <td>6.82</td>\n",
              "      <td>6</td>\n",
              "      <td>11</td>\n",
              "      <td>1</td>\n",
              "      <td>6</td>\n",
              "      <td>11</td>\n",
              "      <td>7.00</td>\n",
              "      <td>14.29</td>\n",
              "      <td>11</td>\n",
              "      <td>0</td>\n",
              "      <td>1</td>\n",
              "      <td>0</td>\n",
              "      <td>1</td>\n",
              "      <td>1</td>\n",
              "      <td>1</td>\n",
              "    </tr>\n",
              "    <tr>\n",
              "      <th>18319</th>\n",
              "      <td>1</td>\n",
              "      <td>4.51</td>\n",
              "      <td>6</td>\n",
              "      <td>5</td>\n",
              "      <td>0</td>\n",
              "      <td>5</td>\n",
              "      <td>7</td>\n",
              "      <td>6.25</td>\n",
              "      <td>9.97</td>\n",
              "      <td>11</td>\n",
              "      <td>1</td>\n",
              "      <td>7</td>\n",
              "      <td>0</td>\n",
              "      <td>1</td>\n",
              "      <td>1</td>\n",
              "      <td>1</td>\n",
              "    </tr>\n",
              "    <tr>\n",
              "      <th>18320</th>\n",
              "      <td>1</td>\n",
              "      <td>2.96</td>\n",
              "      <td>2</td>\n",
              "      <td>5</td>\n",
              "      <td>1</td>\n",
              "      <td>1</td>\n",
              "      <td>5</td>\n",
              "      <td>3.17</td>\n",
              "      <td>6.40</td>\n",
              "      <td>6</td>\n",
              "      <td>0</td>\n",
              "      <td>1</td>\n",
              "      <td>0</td>\n",
              "      <td>1</td>\n",
              "      <td>1</td>\n",
              "      <td>1</td>\n",
              "    </tr>\n",
              "  </tbody>\n",
              "</table>\n",
              "<p>18321 rows × 16 columns</p>\n",
              "</div>\n",
              "      <button class=\"colab-df-convert\" onclick=\"convertToInteractive('df-fa7d8544-057e-4fef-b580-a53dd1a1ee83')\"\n",
              "              title=\"Convert this dataframe to an interactive table.\"\n",
              "              style=\"display:none;\">\n",
              "        \n",
              "  <svg xmlns=\"http://www.w3.org/2000/svg\" height=\"24px\"viewBox=\"0 0 24 24\"\n",
              "       width=\"24px\">\n",
              "    <path d=\"M0 0h24v24H0V0z\" fill=\"none\"/>\n",
              "    <path d=\"M18.56 5.44l.94 2.06.94-2.06 2.06-.94-2.06-.94-.94-2.06-.94 2.06-2.06.94zm-11 1L8.5 8.5l.94-2.06 2.06-.94-2.06-.94L8.5 2.5l-.94 2.06-2.06.94zm10 10l.94 2.06.94-2.06 2.06-.94-2.06-.94-.94-2.06-.94 2.06-2.06.94z\"/><path d=\"M17.41 7.96l-1.37-1.37c-.4-.4-.92-.59-1.43-.59-.52 0-1.04.2-1.43.59L10.3 9.45l-7.72 7.72c-.78.78-.78 2.05 0 2.83L4 21.41c.39.39.9.59 1.41.59.51 0 1.02-.2 1.41-.59l7.78-7.78 2.81-2.81c.8-.78.8-2.07 0-2.86zM5.41 20L4 18.59l7.72-7.72 1.47 1.35L5.41 20z\"/>\n",
              "  </svg>\n",
              "      </button>\n",
              "      \n",
              "  <style>\n",
              "    .colab-df-container {\n",
              "      display:flex;\n",
              "      flex-wrap:wrap;\n",
              "      gap: 12px;\n",
              "    }\n",
              "\n",
              "    .colab-df-convert {\n",
              "      background-color: #E8F0FE;\n",
              "      border: none;\n",
              "      border-radius: 50%;\n",
              "      cursor: pointer;\n",
              "      display: none;\n",
              "      fill: #1967D2;\n",
              "      height: 32px;\n",
              "      padding: 0 0 0 0;\n",
              "      width: 32px;\n",
              "    }\n",
              "\n",
              "    .colab-df-convert:hover {\n",
              "      background-color: #E2EBFA;\n",
              "      box-shadow: 0px 1px 2px rgba(60, 64, 67, 0.3), 0px 1px 3px 1px rgba(60, 64, 67, 0.15);\n",
              "      fill: #174EA6;\n",
              "    }\n",
              "\n",
              "    [theme=dark] .colab-df-convert {\n",
              "      background-color: #3B4455;\n",
              "      fill: #D2E3FC;\n",
              "    }\n",
              "\n",
              "    [theme=dark] .colab-df-convert:hover {\n",
              "      background-color: #434B5C;\n",
              "      box-shadow: 0px 1px 3px 1px rgba(0, 0, 0, 0.15);\n",
              "      filter: drop-shadow(0px 1px 2px rgba(0, 0, 0, 0.3));\n",
              "      fill: #FFFFFF;\n",
              "    }\n",
              "  </style>\n",
              "\n",
              "      <script>\n",
              "        const buttonEl =\n",
              "          document.querySelector('#df-fa7d8544-057e-4fef-b580-a53dd1a1ee83 button.colab-df-convert');\n",
              "        buttonEl.style.display =\n",
              "          google.colab.kernel.accessAllowed ? 'block' : 'none';\n",
              "\n",
              "        async function convertToInteractive(key) {\n",
              "          const element = document.querySelector('#df-fa7d8544-057e-4fef-b580-a53dd1a1ee83');\n",
              "          const dataTable =\n",
              "            await google.colab.kernel.invokeFunction('convertToInteractive',\n",
              "                                                     [key], {});\n",
              "          if (!dataTable) return;\n",
              "\n",
              "          const docLinkHtml = 'Like what you see? Visit the ' +\n",
              "            '<a target=\"_blank\" href=https://colab.research.google.com/notebooks/data_table.ipynb>data table notebook</a>'\n",
              "            + ' to learn more about interactive tables.';\n",
              "          element.innerHTML = '';\n",
              "          dataTable['output_type'] = 'display_data';\n",
              "          await google.colab.output.renderOutput(dataTable, element);\n",
              "          const docLink = document.createElement('div');\n",
              "          docLink.innerHTML = docLinkHtml;\n",
              "          element.appendChild(docLink);\n",
              "        }\n",
              "      </script>\n",
              "    </div>\n",
              "  </div>\n",
              "  "
            ],
            "text/plain": [
              "       edible-poisonous  cap-diameter  ...  has-gill-attachment  has-stem-color\n",
              "0                     0          4.68  ...                    1               1\n",
              "1                     1         10.33  ...                    1               1\n",
              "2                     1          9.26  ...                    0               1\n",
              "3                     1         14.90  ...                    1               1\n",
              "4                     1          1.01  ...                    1               1\n",
              "...                 ...           ...  ...                  ...             ...\n",
              "18316                 0          8.59  ...                    0               1\n",
              "18317                 0          7.23  ...                    1               1\n",
              "18318                 0          6.82  ...                    1               1\n",
              "18319                 1          4.51  ...                    1               1\n",
              "18320                 1          2.96  ...                    1               1\n",
              "\n",
              "[18321 rows x 16 columns]"
            ]
          },
          "metadata": {},
          "execution_count": 34
        }
      ]
    },
    {
      "cell_type": "code",
      "source": [
        "y_true = xgb_score.predict(test)"
      ],
      "metadata": {
        "id": "iJmCnvOp2YlE"
      },
      "execution_count": null,
      "outputs": []
    },
    {
      "cell_type": "code",
      "source": [
        "y_true"
      ],
      "metadata": {
        "colab": {
          "base_uri": "https://localhost:8080/"
        },
        "id": "4Akc2jR92vFa",
        "outputId": "1d835508-2898-4b50-da45-33fa50160df8"
      },
      "execution_count": null,
      "outputs": [
        {
          "output_type": "execute_result",
          "data": {
            "text/plain": [
              "array(['a', 'a', 'u', ..., 'a', 'a', 'u'], dtype=object)"
            ]
          },
          "metadata": {},
          "execution_count": 36
        }
      ]
    },
    {
      "cell_type": "code",
      "execution_count": null,
      "metadata": {
        "id": "d6UNJ7SfjH4x"
      },
      "outputs": [],
      "source": [
        "sub = pd.read_csv(\"/content/drive/MyDrive/Predicting weather/sample_submission.csv\")"
      ]
    },
    {
      "cell_type": "code",
      "execution_count": null,
      "metadata": {
        "id": "Lu3LffawlUd0"
      },
      "outputs": [],
      "source": [
        "sub[\"season\"] = y_true"
      ]
    },
    {
      "cell_type": "code",
      "source": [
        "sub"
      ],
      "metadata": {
        "colab": {
          "base_uri": "https://localhost:8080/",
          "height": 419
        },
        "id": "b8g9wJQw2-6k",
        "outputId": "d8de5a34-10bb-49fa-e1a1-1885fae92267"
      },
      "execution_count": null,
      "outputs": [
        {
          "output_type": "execute_result",
          "data": {
            "text/html": [
              "\n",
              "  <div id=\"df-70e6e27b-7ada-4ba4-9e3e-cfab95d7a406\">\n",
              "    <div class=\"colab-df-container\">\n",
              "      <div>\n",
              "<style scoped>\n",
              "    .dataframe tbody tr th:only-of-type {\n",
              "        vertical-align: middle;\n",
              "    }\n",
              "\n",
              "    .dataframe tbody tr th {\n",
              "        vertical-align: top;\n",
              "    }\n",
              "\n",
              "    .dataframe thead th {\n",
              "        text-align: right;\n",
              "    }\n",
              "</style>\n",
              "<table border=\"1\" class=\"dataframe\">\n",
              "  <thead>\n",
              "    <tr style=\"text-align: right;\">\n",
              "      <th></th>\n",
              "      <th>season</th>\n",
              "    </tr>\n",
              "  </thead>\n",
              "  <tbody>\n",
              "    <tr>\n",
              "      <th>0</th>\n",
              "      <td>a</td>\n",
              "    </tr>\n",
              "    <tr>\n",
              "      <th>1</th>\n",
              "      <td>a</td>\n",
              "    </tr>\n",
              "    <tr>\n",
              "      <th>2</th>\n",
              "      <td>u</td>\n",
              "    </tr>\n",
              "    <tr>\n",
              "      <th>3</th>\n",
              "      <td>a</td>\n",
              "    </tr>\n",
              "    <tr>\n",
              "      <th>4</th>\n",
              "      <td>u</td>\n",
              "    </tr>\n",
              "    <tr>\n",
              "      <th>...</th>\n",
              "      <td>...</td>\n",
              "    </tr>\n",
              "    <tr>\n",
              "      <th>18316</th>\n",
              "      <td>a</td>\n",
              "    </tr>\n",
              "    <tr>\n",
              "      <th>18317</th>\n",
              "      <td>u</td>\n",
              "    </tr>\n",
              "    <tr>\n",
              "      <th>18318</th>\n",
              "      <td>a</td>\n",
              "    </tr>\n",
              "    <tr>\n",
              "      <th>18319</th>\n",
              "      <td>a</td>\n",
              "    </tr>\n",
              "    <tr>\n",
              "      <th>18320</th>\n",
              "      <td>u</td>\n",
              "    </tr>\n",
              "  </tbody>\n",
              "</table>\n",
              "<p>18321 rows × 1 columns</p>\n",
              "</div>\n",
              "      <button class=\"colab-df-convert\" onclick=\"convertToInteractive('df-70e6e27b-7ada-4ba4-9e3e-cfab95d7a406')\"\n",
              "              title=\"Convert this dataframe to an interactive table.\"\n",
              "              style=\"display:none;\">\n",
              "        \n",
              "  <svg xmlns=\"http://www.w3.org/2000/svg\" height=\"24px\"viewBox=\"0 0 24 24\"\n",
              "       width=\"24px\">\n",
              "    <path d=\"M0 0h24v24H0V0z\" fill=\"none\"/>\n",
              "    <path d=\"M18.56 5.44l.94 2.06.94-2.06 2.06-.94-2.06-.94-.94-2.06-.94 2.06-2.06.94zm-11 1L8.5 8.5l.94-2.06 2.06-.94-2.06-.94L8.5 2.5l-.94 2.06-2.06.94zm10 10l.94 2.06.94-2.06 2.06-.94-2.06-.94-.94-2.06-.94 2.06-2.06.94z\"/><path d=\"M17.41 7.96l-1.37-1.37c-.4-.4-.92-.59-1.43-.59-.52 0-1.04.2-1.43.59L10.3 9.45l-7.72 7.72c-.78.78-.78 2.05 0 2.83L4 21.41c.39.39.9.59 1.41.59.51 0 1.02-.2 1.41-.59l7.78-7.78 2.81-2.81c.8-.78.8-2.07 0-2.86zM5.41 20L4 18.59l7.72-7.72 1.47 1.35L5.41 20z\"/>\n",
              "  </svg>\n",
              "      </button>\n",
              "      \n",
              "  <style>\n",
              "    .colab-df-container {\n",
              "      display:flex;\n",
              "      flex-wrap:wrap;\n",
              "      gap: 12px;\n",
              "    }\n",
              "\n",
              "    .colab-df-convert {\n",
              "      background-color: #E8F0FE;\n",
              "      border: none;\n",
              "      border-radius: 50%;\n",
              "      cursor: pointer;\n",
              "      display: none;\n",
              "      fill: #1967D2;\n",
              "      height: 32px;\n",
              "      padding: 0 0 0 0;\n",
              "      width: 32px;\n",
              "    }\n",
              "\n",
              "    .colab-df-convert:hover {\n",
              "      background-color: #E2EBFA;\n",
              "      box-shadow: 0px 1px 2px rgba(60, 64, 67, 0.3), 0px 1px 3px 1px rgba(60, 64, 67, 0.15);\n",
              "      fill: #174EA6;\n",
              "    }\n",
              "\n",
              "    [theme=dark] .colab-df-convert {\n",
              "      background-color: #3B4455;\n",
              "      fill: #D2E3FC;\n",
              "    }\n",
              "\n",
              "    [theme=dark] .colab-df-convert:hover {\n",
              "      background-color: #434B5C;\n",
              "      box-shadow: 0px 1px 3px 1px rgba(0, 0, 0, 0.15);\n",
              "      filter: drop-shadow(0px 1px 2px rgba(0, 0, 0, 0.3));\n",
              "      fill: #FFFFFF;\n",
              "    }\n",
              "  </style>\n",
              "\n",
              "      <script>\n",
              "        const buttonEl =\n",
              "          document.querySelector('#df-70e6e27b-7ada-4ba4-9e3e-cfab95d7a406 button.colab-df-convert');\n",
              "        buttonEl.style.display =\n",
              "          google.colab.kernel.accessAllowed ? 'block' : 'none';\n",
              "\n",
              "        async function convertToInteractive(key) {\n",
              "          const element = document.querySelector('#df-70e6e27b-7ada-4ba4-9e3e-cfab95d7a406');\n",
              "          const dataTable =\n",
              "            await google.colab.kernel.invokeFunction('convertToInteractive',\n",
              "                                                     [key], {});\n",
              "          if (!dataTable) return;\n",
              "\n",
              "          const docLinkHtml = 'Like what you see? Visit the ' +\n",
              "            '<a target=\"_blank\" href=https://colab.research.google.com/notebooks/data_table.ipynb>data table notebook</a>'\n",
              "            + ' to learn more about interactive tables.';\n",
              "          element.innerHTML = '';\n",
              "          dataTable['output_type'] = 'display_data';\n",
              "          await google.colab.output.renderOutput(dataTable, element);\n",
              "          const docLink = document.createElement('div');\n",
              "          docLink.innerHTML = docLinkHtml;\n",
              "          element.appendChild(docLink);\n",
              "        }\n",
              "      </script>\n",
              "    </div>\n",
              "  </div>\n",
              "  "
            ],
            "text/plain": [
              "      season\n",
              "0          a\n",
              "1          a\n",
              "2          u\n",
              "3          a\n",
              "4          u\n",
              "...      ...\n",
              "18316      a\n",
              "18317      u\n",
              "18318      a\n",
              "18319      a\n",
              "18320      u\n",
              "\n",
              "[18321 rows x 1 columns]"
            ]
          },
          "metadata": {},
          "execution_count": 38
        }
      ]
    },
    {
      "cell_type": "code",
      "source": [
        "sub.to_csv(\"submission.csv\", index=False)"
      ],
      "metadata": {
        "id": "3TOtObS43AJn"
      },
      "execution_count": null,
      "outputs": []
    }
  ],
  "metadata": {
    "colab": {
      "collapsed_sections": [
        "XEBPNYOIp56n",
        "6kMA5mSmp_VE",
        "E5jukhLEr_MT",
        "TWgAkIe8cJMh",
        "gruJoJhCtzb_",
        "Z6zRDl4bu7Bs",
        "0piwzyyf20gB"
      ],
      "name": "Predicting_weather(modelling.ipynb",
      "provenance": [],
      "mount_file_id": "1YFY9PzBvuIx4IzSvU5NQ9bDqXjPILHEv",
      "authorship_tag": "ABX9TyNF0aDRpV1KUf9BvSGn0qM/",
      "include_colab_link": true
    },
    "kernelspec": {
      "display_name": "Python 3",
      "name": "python3"
    },
    "language_info": {
      "name": "python"
    },
    "widgets": {
      "application/vnd.jupyter.widget-state+json": {
        "05055847861641d3af81d094f1036bea": {
          "model_module": "@jupyter-widgets/controls",
          "model_module_version": "1.5.0",
          "model_name": "FloatProgressModel",
          "state": {
            "_dom_classes": [],
            "_model_module": "@jupyter-widgets/controls",
            "_model_module_version": "1.5.0",
            "_model_name": "FloatProgressModel",
            "_view_count": null,
            "_view_module": "@jupyter-widgets/controls",
            "_view_module_version": "1.5.0",
            "_view_name": "ProgressView",
            "bar_style": "success",
            "description": "",
            "description_tooltip": null,
            "layout": "IPY_MODEL_bd71284a41044fada160e253716074c7",
            "max": 5,
            "min": 0,
            "orientation": "horizontal",
            "style": "IPY_MODEL_60c22140829f40ceb3f93609a86dec01",
            "value": 5
          }
        },
        "15fcf2ef2c494c33826660113182d6ca": {
          "model_module": "@jupyter-widgets/controls",
          "model_module_version": "1.5.0",
          "model_name": "HTMLModel",
          "state": {
            "_dom_classes": [],
            "_model_module": "@jupyter-widgets/controls",
            "_model_module_version": "1.5.0",
            "_model_name": "HTMLModel",
            "_view_count": null,
            "_view_module": "@jupyter-widgets/controls",
            "_view_module_version": "1.5.0",
            "_view_name": "HTMLView",
            "description": "",
            "description_tooltip": null,
            "layout": "IPY_MODEL_81c5ca507be74919a6419c2dafeb7429",
            "placeholder": "​",
            "style": "IPY_MODEL_c10f372f3eb74569a60c4bd5e76d73a5",
            "value": " 5/5 [11:26&lt;00:00, 137.29s/it]"
          }
        },
        "215989d5d551496ab6b071cae024d10b": {
          "model_module": "@jupyter-widgets/controls",
          "model_module_version": "1.5.0",
          "model_name": "DescriptionStyleModel",
          "state": {
            "_model_module": "@jupyter-widgets/controls",
            "_model_module_version": "1.5.0",
            "_model_name": "DescriptionStyleModel",
            "_view_count": null,
            "_view_module": "@jupyter-widgets/base",
            "_view_module_version": "1.2.0",
            "_view_name": "StyleView",
            "description_width": ""
          }
        },
        "5e54838c53374dd6906d2335630c88c7": {
          "model_module": "@jupyter-widgets/base",
          "model_module_version": "1.2.0",
          "model_name": "LayoutModel",
          "state": {
            "_model_module": "@jupyter-widgets/base",
            "_model_module_version": "1.2.0",
            "_model_name": "LayoutModel",
            "_view_count": null,
            "_view_module": "@jupyter-widgets/base",
            "_view_module_version": "1.2.0",
            "_view_name": "LayoutView",
            "align_content": null,
            "align_items": null,
            "align_self": null,
            "border": null,
            "bottom": null,
            "display": null,
            "flex": null,
            "flex_flow": null,
            "grid_area": null,
            "grid_auto_columns": null,
            "grid_auto_flow": null,
            "grid_auto_rows": null,
            "grid_column": null,
            "grid_gap": null,
            "grid_row": null,
            "grid_template_areas": null,
            "grid_template_columns": null,
            "grid_template_rows": null,
            "height": null,
            "justify_content": null,
            "justify_items": null,
            "left": null,
            "margin": null,
            "max_height": null,
            "max_width": null,
            "min_height": null,
            "min_width": null,
            "object_fit": null,
            "object_position": null,
            "order": null,
            "overflow": null,
            "overflow_x": null,
            "overflow_y": null,
            "padding": null,
            "right": null,
            "top": null,
            "visibility": null,
            "width": null
          }
        },
        "60c22140829f40ceb3f93609a86dec01": {
          "model_module": "@jupyter-widgets/controls",
          "model_module_version": "1.5.0",
          "model_name": "ProgressStyleModel",
          "state": {
            "_model_module": "@jupyter-widgets/controls",
            "_model_module_version": "1.5.0",
            "_model_name": "ProgressStyleModel",
            "_view_count": null,
            "_view_module": "@jupyter-widgets/base",
            "_view_module_version": "1.2.0",
            "_view_name": "StyleView",
            "bar_color": null,
            "description_width": ""
          }
        },
        "7370d3ae623b421590b71b2e3fe61376": {
          "model_module": "@jupyter-widgets/base",
          "model_module_version": "1.2.0",
          "model_name": "LayoutModel",
          "state": {
            "_model_module": "@jupyter-widgets/base",
            "_model_module_version": "1.2.0",
            "_model_name": "LayoutModel",
            "_view_count": null,
            "_view_module": "@jupyter-widgets/base",
            "_view_module_version": "1.2.0",
            "_view_name": "LayoutView",
            "align_content": null,
            "align_items": null,
            "align_self": null,
            "border": null,
            "bottom": null,
            "display": null,
            "flex": null,
            "flex_flow": null,
            "grid_area": null,
            "grid_auto_columns": null,
            "grid_auto_flow": null,
            "grid_auto_rows": null,
            "grid_column": null,
            "grid_gap": null,
            "grid_row": null,
            "grid_template_areas": null,
            "grid_template_columns": null,
            "grid_template_rows": null,
            "height": null,
            "justify_content": null,
            "justify_items": null,
            "left": null,
            "margin": null,
            "max_height": null,
            "max_width": null,
            "min_height": null,
            "min_width": null,
            "object_fit": null,
            "object_position": null,
            "order": null,
            "overflow": null,
            "overflow_x": null,
            "overflow_y": null,
            "padding": null,
            "right": null,
            "top": null,
            "visibility": null,
            "width": null
          }
        },
        "7d48df47f8124009956365adcd60658c": {
          "model_module": "@jupyter-widgets/controls",
          "model_module_version": "1.5.0",
          "model_name": "HTMLModel",
          "state": {
            "_dom_classes": [],
            "_model_module": "@jupyter-widgets/controls",
            "_model_module_version": "1.5.0",
            "_model_name": "HTMLModel",
            "_view_count": null,
            "_view_module": "@jupyter-widgets/controls",
            "_view_module_version": "1.5.0",
            "_view_name": "HTMLView",
            "description": "",
            "description_tooltip": null,
            "layout": "IPY_MODEL_7370d3ae623b421590b71b2e3fe61376",
            "placeholder": "​",
            "style": "IPY_MODEL_215989d5d551496ab6b071cae024d10b",
            "value": "100%"
          }
        },
        "81c5ca507be74919a6419c2dafeb7429": {
          "model_module": "@jupyter-widgets/base",
          "model_module_version": "1.2.0",
          "model_name": "LayoutModel",
          "state": {
            "_model_module": "@jupyter-widgets/base",
            "_model_module_version": "1.2.0",
            "_model_name": "LayoutModel",
            "_view_count": null,
            "_view_module": "@jupyter-widgets/base",
            "_view_module_version": "1.2.0",
            "_view_name": "LayoutView",
            "align_content": null,
            "align_items": null,
            "align_self": null,
            "border": null,
            "bottom": null,
            "display": null,
            "flex": null,
            "flex_flow": null,
            "grid_area": null,
            "grid_auto_columns": null,
            "grid_auto_flow": null,
            "grid_auto_rows": null,
            "grid_column": null,
            "grid_gap": null,
            "grid_row": null,
            "grid_template_areas": null,
            "grid_template_columns": null,
            "grid_template_rows": null,
            "height": null,
            "justify_content": null,
            "justify_items": null,
            "left": null,
            "margin": null,
            "max_height": null,
            "max_width": null,
            "min_height": null,
            "min_width": null,
            "object_fit": null,
            "object_position": null,
            "order": null,
            "overflow": null,
            "overflow_x": null,
            "overflow_y": null,
            "padding": null,
            "right": null,
            "top": null,
            "visibility": null,
            "width": null
          }
        },
        "bd71284a41044fada160e253716074c7": {
          "model_module": "@jupyter-widgets/base",
          "model_module_version": "1.2.0",
          "model_name": "LayoutModel",
          "state": {
            "_model_module": "@jupyter-widgets/base",
            "_model_module_version": "1.2.0",
            "_model_name": "LayoutModel",
            "_view_count": null,
            "_view_module": "@jupyter-widgets/base",
            "_view_module_version": "1.2.0",
            "_view_name": "LayoutView",
            "align_content": null,
            "align_items": null,
            "align_self": null,
            "border": null,
            "bottom": null,
            "display": null,
            "flex": null,
            "flex_flow": null,
            "grid_area": null,
            "grid_auto_columns": null,
            "grid_auto_flow": null,
            "grid_auto_rows": null,
            "grid_column": null,
            "grid_gap": null,
            "grid_row": null,
            "grid_template_areas": null,
            "grid_template_columns": null,
            "grid_template_rows": null,
            "height": null,
            "justify_content": null,
            "justify_items": null,
            "left": null,
            "margin": null,
            "max_height": null,
            "max_width": null,
            "min_height": null,
            "min_width": null,
            "object_fit": null,
            "object_position": null,
            "order": null,
            "overflow": null,
            "overflow_x": null,
            "overflow_y": null,
            "padding": null,
            "right": null,
            "top": null,
            "visibility": null,
            "width": null
          }
        },
        "c10dcbd1567a4cfba996dab66ccd1e44": {
          "model_module": "@jupyter-widgets/controls",
          "model_module_version": "1.5.0",
          "model_name": "HBoxModel",
          "state": {
            "_dom_classes": [],
            "_model_module": "@jupyter-widgets/controls",
            "_model_module_version": "1.5.0",
            "_model_name": "HBoxModel",
            "_view_count": null,
            "_view_module": "@jupyter-widgets/controls",
            "_view_module_version": "1.5.0",
            "_view_name": "HBoxView",
            "box_style": "",
            "children": [
              "IPY_MODEL_7d48df47f8124009956365adcd60658c",
              "IPY_MODEL_05055847861641d3af81d094f1036bea",
              "IPY_MODEL_15fcf2ef2c494c33826660113182d6ca"
            ],
            "layout": "IPY_MODEL_5e54838c53374dd6906d2335630c88c7"
          }
        },
        "c10f372f3eb74569a60c4bd5e76d73a5": {
          "model_module": "@jupyter-widgets/controls",
          "model_module_version": "1.5.0",
          "model_name": "DescriptionStyleModel",
          "state": {
            "_model_module": "@jupyter-widgets/controls",
            "_model_module_version": "1.5.0",
            "_model_name": "DescriptionStyleModel",
            "_view_count": null,
            "_view_module": "@jupyter-widgets/base",
            "_view_module_version": "1.2.0",
            "_view_name": "StyleView",
            "description_width": ""
          }
        }
      }
    }
  },
  "nbformat": 4,
  "nbformat_minor": 0
}